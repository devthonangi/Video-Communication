{
  "nbformat": 4,
  "nbformat_minor": 0,
  "metadata": {
    "colab": {
      "provenance": [],
      "toc_visible": true
    },
    "kernelspec": {
      "name": "python3",
      "display_name": "Python 3"
    },
    "language_info": {
      "name": "python"
    }
  },
  "cells": [
    {
      "cell_type": "code",
      "source": [
        "!pip install motion-vector-extractor"
      ],
      "metadata": {
        "colab": {
          "base_uri": "https://localhost:8080/"
        },
        "id": "WquLTyqva_6A",
        "outputId": "71a3832a-d935-4e6b-d6d7-c1e9070514e1"
      },
      "execution_count": null,
      "outputs": [
        {
          "output_type": "stream",
          "name": "stdout",
          "text": [
            "Collecting motion-vector-extractor\n",
            "  Downloading motion_vector_extractor-1.0.6-cp310-cp310-manylinux_2_24_x86_64.whl (52.7 MB)\n",
            "\u001b[2K     \u001b[90m━━━━━━━━━━━━━━━━━━━━━━━━━━━━━━━━━━━━━━━━\u001b[0m \u001b[32m52.7/52.7 MB\u001b[0m \u001b[31m17.5 MB/s\u001b[0m eta \u001b[36m0:00:00\u001b[0m\n",
            "\u001b[?25hCollecting pkgconfig>=1.5.1 (from motion-vector-extractor)\n",
            "  Downloading pkgconfig-1.5.5-py3-none-any.whl (6.7 kB)\n",
            "Requirement already satisfied: numpy>=1.17.0 in /usr/local/lib/python3.10/dist-packages (from motion-vector-extractor) (1.23.5)\n",
            "Collecting opencv-python<4.6,>=4.1.0.25 (from motion-vector-extractor)\n",
            "  Downloading opencv_python-4.5.5.64-cp36-abi3-manylinux_2_17_x86_64.manylinux2014_x86_64.whl (60.5 MB)\n",
            "\u001b[2K     \u001b[90m━━━━━━━━━━━━━━━━━━━━━━━━━━━━━━━━━━━━━━━━\u001b[0m \u001b[32m60.5/60.5 MB\u001b[0m \u001b[31m10.0 MB/s\u001b[0m eta \u001b[36m0:00:00\u001b[0m\n",
            "\u001b[?25hInstalling collected packages: pkgconfig, opencv-python, motion-vector-extractor\n",
            "  Attempting uninstall: opencv-python\n",
            "    Found existing installation: opencv-python 4.8.0.76\n",
            "    Uninstalling opencv-python-4.8.0.76:\n",
            "      Successfully uninstalled opencv-python-4.8.0.76\n",
            "Successfully installed motion-vector-extractor-1.0.6 opencv-python-4.5.5.64 pkgconfig-1.5.5\n"
          ]
        }
      ]
    },
    {
      "cell_type": "markdown",
      "source": [
        "Loading Raw Video"
      ],
      "metadata": {
        "id": "OjYSwW9yc913"
      }
    },
    {
      "cell_type": "markdown",
      "source": [
        "For sunflower_1080p25.y4m:"
      ],
      "metadata": {
        "id": "MKJMDlNDdyOP"
      }
    },
    {
      "cell_type": "code",
      "source": [
        "!curl https://media.xiph.org/video/derf/y4m/sunflower_1080p25.y4m -o sunflower_1080p25.y4m"
      ],
      "metadata": {
        "colab": {
          "base_uri": "https://localhost:8080/"
        },
        "id": "m5WtQj9dURZJ",
        "outputId": "9f7e70af-4d38-429c-d3d0-ae033a22fa05"
      },
      "execution_count": null,
      "outputs": [
        {
          "output_type": "stream",
          "name": "stdout",
          "text": [
            "  % Total    % Received % Xferd  Average Speed   Time    Time     Time  Current\n",
            "                                 Dload  Upload   Total   Spent    Left  Speed\n",
            "100 1483M  100 1483M    0     0  46.1M      0  0:00:32  0:00:32 --:--:-- 48.1M\n"
          ]
        }
      ]
    },
    {
      "cell_type": "markdown",
      "source": [
        "For touchdown_pass_1080p.y4m:"
      ],
      "metadata": {
        "id": "kABydg-4dzpf"
      }
    },
    {
      "cell_type": "code",
      "source": [
        "!curl https://media.xiph.org/video/derf/y4m/touchdown_pass_1080p.y4m -o touchdown_pass_1080p.y4m"
      ],
      "metadata": {
        "colab": {
          "base_uri": "https://localhost:8080/"
        },
        "id": "XXd3xc5rURca",
        "outputId": "92800cd6-6371-448c-9f4e-52e167f9205c"
      },
      "execution_count": null,
      "outputs": [
        {
          "output_type": "stream",
          "name": "stdout",
          "text": [
            "  % Total    % Received % Xferd  Average Speed   Time    Time     Time  Current\n",
            "                                 Dload  Upload   Total   Spent    Left  Speed\n",
            "100 2254M  100 2254M    0     0  39.5M      0  0:00:57  0:00:57 --:--:-- 40.0M\n"
          ]
        }
      ]
    },
    {
      "cell_type": "markdown",
      "source": [
        "For red_kayak_1080p.y4m:"
      ],
      "metadata": {
        "id": "NOCVsiZEd2xA"
      }
    },
    {
      "cell_type": "code",
      "source": [
        "!curl https://media.xiph.org/video/derf/y4m/red_kayak_1080p.y4m -o red_kayak_1080p.y4m"
      ],
      "metadata": {
        "colab": {
          "base_uri": "https://localhost:8080/"
        },
        "id": "jm-ua_COURfZ",
        "outputId": "1db538ef-0119-4549-a29e-b953220930d7"
      },
      "execution_count": null,
      "outputs": [
        {
          "output_type": "stream",
          "name": "stdout",
          "text": [
            "  % Total    % Received % Xferd  Average Speed   Time    Time     Time  Current\n",
            "                                 Dload  Upload   Total   Spent    Left  Speed\n",
            "100 2254M  100 2254M    0     0  37.4M      0  0:01:00  0:01:00 --:--:-- 32.1M\n"
          ]
        }
      ]
    },
    {
      "cell_type": "markdown",
      "source": [
        "For crowd_run_1080p50.y4m:"
      ],
      "metadata": {
        "id": "irWMeoYgd55L"
      }
    },
    {
      "cell_type": "code",
      "source": [
        "!curl https://media.xiph.org/video/derf/y4m/crowd_run_1080p50.y4m -o crowd_run_1080p50.y4m"
      ],
      "metadata": {
        "colab": {
          "base_uri": "https://localhost:8080/"
        },
        "id": "uOlikj0zURiL",
        "outputId": "50fafc86-bd29-4efc-f50a-545039ac2fa1"
      },
      "execution_count": null,
      "outputs": [
        {
          "output_type": "stream",
          "name": "stdout",
          "text": [
            "  % Total    % Received % Xferd  Average Speed   Time    Time     Time  Current\n",
            "                                 Dload  Upload   Total   Spent    Left  Speed\n",
            "100 1483M  100 1483M    0     0  38.2M      0  0:00:38  0:00:38 --:--:-- 39.1M\n"
          ]
        }
      ]
    },
    {
      "cell_type": "markdown",
      "source": [
        "For WITCHER3.y4m:"
      ],
      "metadata": {
        "id": "W8x6cRHEd83s"
      }
    },
    {
      "cell_type": "code",
      "source": [
        "!curl https://media.xiph.org/video/derf/twitch/y4m/WITCHER3.y4m -o WITCHER3.y4m"
      ],
      "metadata": {
        "colab": {
          "base_uri": "https://localhost:8080/"
        },
        "id": "2J0TfJHSURk7",
        "outputId": "39c2ff1f-043c-4d2f-e75f-0c673c78ee9b"
      },
      "execution_count": null,
      "outputs": [
        {
          "output_type": "stream",
          "name": "stdout",
          "text": [
            "  % Total    % Received % Xferd  Average Speed   Time    Time     Time  Current\n",
            "                                 Dload  Upload   Total   Spent    Left  Speed\n",
            "100 10.4G  100 10.4G    0     0  6556k      0  0:27:48  0:27:48 --:--:-- 14.2M\n"
          ]
        }
      ]
    },
    {
      "cell_type": "markdown",
      "source": [
        "YUV to H264"
      ],
      "metadata": {
        "id": "VFbYsVV55Pys"
      }
    },
    {
      "cell_type": "markdown",
      "source": [
        "For Sunflower"
      ],
      "metadata": {
        "id": "YGNpyn1O3Ivr"
      }
    },
    {
      "cell_type": "code",
      "source": [
        "!ffmpeg -y -i /content/sunflower_1080p25.y4m -pix_fmt yuv420p -codec:v libx264 -b:v 5000k sunflower_1080p25.mp4\n"
      ],
      "metadata": {
        "colab": {
          "base_uri": "https://localhost:8080/"
        },
        "id": "jjNHAC253IdX",
        "outputId": "d4ede3b2-ee43-40e0-afca-7c0814c32d5d"
      },
      "execution_count": null,
      "outputs": [
        {
          "output_type": "stream",
          "name": "stdout",
          "text": [
            "ffmpeg version 4.4.2-0ubuntu0.22.04.1 Copyright (c) 2000-2021 the FFmpeg developers\n",
            "  built with gcc 11 (Ubuntu 11.2.0-19ubuntu1)\n",
            "  configuration: --prefix=/usr --extra-version=0ubuntu0.22.04.1 --toolchain=hardened --libdir=/usr/lib/x86_64-linux-gnu --incdir=/usr/include/x86_64-linux-gnu --arch=amd64 --enable-gpl --disable-stripping --enable-gnutls --enable-ladspa --enable-libaom --enable-libass --enable-libbluray --enable-libbs2b --enable-libcaca --enable-libcdio --enable-libcodec2 --enable-libdav1d --enable-libflite --enable-libfontconfig --enable-libfreetype --enable-libfribidi --enable-libgme --enable-libgsm --enable-libjack --enable-libmp3lame --enable-libmysofa --enable-libopenjpeg --enable-libopenmpt --enable-libopus --enable-libpulse --enable-librabbitmq --enable-librubberband --enable-libshine --enable-libsnappy --enable-libsoxr --enable-libspeex --enable-libsrt --enable-libssh --enable-libtheora --enable-libtwolame --enable-libvidstab --enable-libvorbis --enable-libvpx --enable-libwebp --enable-libx265 --enable-libxml2 --enable-libxvid --enable-libzimg --enable-libzmq --enable-libzvbi --enable-lv2 --enable-omx --enable-openal --enable-opencl --enable-opengl --enable-sdl2 --enable-pocketsphinx --enable-librsvg --enable-libmfx --enable-libdc1394 --enable-libdrm --enable-libiec61883 --enable-chromaprint --enable-frei0r --enable-libx264 --enable-shared\n",
            "  libavutil      56. 70.100 / 56. 70.100\n",
            "  libavcodec     58.134.100 / 58.134.100\n",
            "  libavformat    58. 76.100 / 58. 76.100\n",
            "  libavdevice    58. 13.100 / 58. 13.100\n",
            "  libavfilter     7.110.100 /  7.110.100\n",
            "  libswscale      5.  9.100 /  5.  9.100\n",
            "  libswresample   3.  9.100 /  3.  9.100\n",
            "  libpostproc    55.  9.100 / 55.  9.100\n",
            "Input #0, yuv4mpegpipe, from '/content/sunflower_1080p25.y4m':\n",
            "  Duration: 00:00:20.00, start: 0.000000, bitrate: 622081 kb/s\n",
            "  Stream #0:0: Video: rawvideo (I420 / 0x30323449), yuv420p(progressive), 1920x1080, SAR 1:1 DAR 16:9, 25 fps, 25 tbr, 25 tbn, 25 tbc\n",
            "Stream mapping:\n",
            "  Stream #0:0 -> #0:0 (rawvideo (native) -> h264 (libx264))\n",
            "Press [q] to stop, [?] for help\n",
            "\u001b[1;36m[libx264 @ 0x5b420398ad40] \u001b[0musing SAR=1/1\n",
            "\u001b[1;36m[libx264 @ 0x5b420398ad40] \u001b[0musing cpu capabilities: MMX2 SSE2Fast SSSE3 SSE4.2 AVX FMA3 BMI2 AVX2\n",
            "\u001b[1;36m[libx264 @ 0x5b420398ad40] \u001b[0mprofile High, level 4.0, 4:2:0, 8-bit\n",
            "\u001b[1;36m[libx264 @ 0x5b420398ad40] \u001b[0m264 - core 163 r3060 5db6aa6 - H.264/MPEG-4 AVC codec - Copyleft 2003-2021 - http://www.videolan.org/x264.html - options: cabac=1 ref=3 deblock=1:0:0 analyse=0x3:0x113 me=hex subme=7 psy=1 psy_rd=1.00:0.00 mixed_ref=1 me_range=16 chroma_me=1 trellis=1 8x8dct=1 cqm=0 deadzone=21,11 fast_pskip=1 chroma_qp_offset=-2 threads=3 lookahead_threads=1 sliced_threads=0 nr=0 decimate=1 interlaced=0 bluray_compat=0 constrained_intra=0 bframes=3 b_pyramid=2 b_adapt=1 b_bias=0 direct=1 weightb=1 open_gop=0 weightp=2 keyint=250 keyint_min=25 scenecut=40 intra_refresh=0 rc_lookahead=40 rc=abr mbtree=1 bitrate=5000 ratetol=1.0 qcomp=0.60 qpmin=0 qpmax=69 qpstep=4 ip_ratio=1.40 aq=1:1.00\n",
            "Output #0, mp4, to 'sunflower_1080p25.mp4':\n",
            "  Metadata:\n",
            "    encoder         : Lavf58.76.100\n",
            "  Stream #0:0: Video: h264 (avc1 / 0x31637661), yuv420p(progressive), 1920x1080 [SAR 1:1 DAR 16:9], q=2-31, 5000 kb/s, 25 fps, 12800 tbn\n",
            "    Metadata:\n",
            "      encoder         : Lavc58.134.100 libx264\n",
            "    Side data:\n",
            "      cpb: bitrate max/min/avg: 0/0/5000000 buffer size: 0 vbv_delay: N/A\n",
            "frame=  500 fps=5.5 q=-1.0 Lsize=   12120kB time=00:00:19.88 bitrate=4994.2kbits/s speed=0.22x    \n",
            "video:12113kB audio:0kB subtitle:0kB other streams:0kB global headers:0kB muxing overhead: 0.056863%\n",
            "\u001b[1;36m[libx264 @ 0x5b420398ad40] \u001b[0mframe I:2     Avg QP:17.64  size:244448\n",
            "\u001b[1;36m[libx264 @ 0x5b420398ad40] \u001b[0mframe P:126   Avg QP:20.70  size: 64466\n",
            "\u001b[1;36m[libx264 @ 0x5b420398ad40] \u001b[0mframe B:372   Avg QP:25.23  size: 10192\n",
            "\u001b[1;36m[libx264 @ 0x5b420398ad40] \u001b[0mconsecutive B-frames:  0.6%  0.4%  0.6% 98.4%\n",
            "\u001b[1;36m[libx264 @ 0x5b420398ad40] \u001b[0mmb I  I16..4:  3.6% 83.6% 12.8%\n",
            "\u001b[1;36m[libx264 @ 0x5b420398ad40] \u001b[0mmb P  I16..4:  0.1%  2.1%  0.5%  P16..4: 50.8% 24.3% 14.2%  0.0%  0.0%    skip: 8.0%\n",
            "\u001b[1;36m[libx264 @ 0x5b420398ad40] \u001b[0mmb B  I16..4:  0.0%  0.3%  0.1%  B16..8: 38.0%  2.4%  0.6%  direct: 1.2%  skip:57.4%  L0:44.1% L1:53.1% BI: 2.8%\n",
            "\u001b[1;36m[libx264 @ 0x5b420398ad40] \u001b[0mfinal ratefactor: 20.21\n",
            "\u001b[1;36m[libx264 @ 0x5b420398ad40] \u001b[0m8x8 transform intra:78.2% inter:75.2%\n",
            "\u001b[1;36m[libx264 @ 0x5b420398ad40] \u001b[0mcoded y,uvDC,uvAC intra: 90.4% 98.2% 89.3% inter: 15.8% 26.9% 7.1%\n",
            "\u001b[1;36m[libx264 @ 0x5b420398ad40] \u001b[0mi16 v,h,dc,p: 39%  9%  6% 46%\n",
            "\u001b[1;36m[libx264 @ 0x5b420398ad40] \u001b[0mi8 v,h,dc,ddl,ddr,vr,hd,vl,hu: 18% 14%  8%  8%  9%  9% 11% 11% 12%\n",
            "\u001b[1;36m[libx264 @ 0x5b420398ad40] \u001b[0mi4 v,h,dc,ddl,ddr,vr,hd,vl,hu: 19% 14%  9%  8% 12% 10% 11%  9%  8%\n",
            "\u001b[1;36m[libx264 @ 0x5b420398ad40] \u001b[0mi8c dc,h,v,p: 41% 20% 21% 18%\n",
            "\u001b[1;36m[libx264 @ 0x5b420398ad40] \u001b[0mWeighted P-Frames: Y:17.5% UV:14.3%\n",
            "\u001b[1;36m[libx264 @ 0x5b420398ad40] \u001b[0mref P L0: 63.0% 14.9% 12.8%  8.7%  0.5%\n",
            "\u001b[1;36m[libx264 @ 0x5b420398ad40] \u001b[0mref B L0: 91.2%  7.0%  1.8%\n",
            "\u001b[1;36m[libx264 @ 0x5b420398ad40] \u001b[0mref B L1: 95.8%  4.2%\n",
            "\u001b[1;36m[libx264 @ 0x5b420398ad40] \u001b[0mkb/s:4961.12\n"
          ]
        }
      ]
    },
    {
      "cell_type": "markdown",
      "source": [
        "For Touchdownpass"
      ],
      "metadata": {
        "id": "ORd8D9MD3H6m"
      }
    },
    {
      "cell_type": "code",
      "source": [
        "!ffmpeg -y -i /content/touchdown_pass_1080p.y4m -pix_fmt yuv420p -codec:v libx264 -b:v 5000k touchdown_pass_1080p.mp4\n"
      ],
      "metadata": {
        "colab": {
          "base_uri": "https://localhost:8080/"
        },
        "id": "zmOTttg-3Hbx",
        "outputId": "64693775-306c-4dc8-e527-ebfd4c1def22"
      },
      "execution_count": null,
      "outputs": [
        {
          "output_type": "stream",
          "name": "stdout",
          "text": [
            "ffmpeg version 4.4.2-0ubuntu0.22.04.1 Copyright (c) 2000-2021 the FFmpeg developers\n",
            "  built with gcc 11 (Ubuntu 11.2.0-19ubuntu1)\n",
            "  configuration: --prefix=/usr --extra-version=0ubuntu0.22.04.1 --toolchain=hardened --libdir=/usr/lib/x86_64-linux-gnu --incdir=/usr/include/x86_64-linux-gnu --arch=amd64 --enable-gpl --disable-stripping --enable-gnutls --enable-ladspa --enable-libaom --enable-libass --enable-libbluray --enable-libbs2b --enable-libcaca --enable-libcdio --enable-libcodec2 --enable-libdav1d --enable-libflite --enable-libfontconfig --enable-libfreetype --enable-libfribidi --enable-libgme --enable-libgsm --enable-libjack --enable-libmp3lame --enable-libmysofa --enable-libopenjpeg --enable-libopenmpt --enable-libopus --enable-libpulse --enable-librabbitmq --enable-librubberband --enable-libshine --enable-libsnappy --enable-libsoxr --enable-libspeex --enable-libsrt --enable-libssh --enable-libtheora --enable-libtwolame --enable-libvidstab --enable-libvorbis --enable-libvpx --enable-libwebp --enable-libx265 --enable-libxml2 --enable-libxvid --enable-libzimg --enable-libzmq --enable-libzvbi --enable-lv2 --enable-omx --enable-openal --enable-opencl --enable-opengl --enable-sdl2 --enable-pocketsphinx --enable-librsvg --enable-libmfx --enable-libdc1394 --enable-libdrm --enable-libiec61883 --enable-chromaprint --enable-frei0r --enable-libx264 --enable-shared\n",
            "  libavutil      56. 70.100 / 56. 70.100\n",
            "  libavcodec     58.134.100 / 58.134.100\n",
            "  libavformat    58. 76.100 / 58. 76.100\n",
            "  libavdevice    58. 13.100 / 58. 13.100\n",
            "  libavfilter     7.110.100 /  7.110.100\n",
            "  libswscale      5.  9.100 /  5.  9.100\n",
            "  libswresample   3.  9.100 /  3.  9.100\n",
            "  libpostproc    55.  9.100 / 55.  9.100\n",
            "Input #0, yuv4mpegpipe, from '/content/touchdown_pass_1080p.y4m':\n",
            "  Duration: 00:00:19.02, start: 0.000000, bitrate: 994335 kb/s\n",
            "  Stream #0:0: Video: rawvideo (Y42B / 0x42323459), yuv422p(progressive), 1920x1080, SAR 1:1 DAR 16:9, 29.97 fps, 29.97 tbr, 29.97 tbn, 29.97 tbc\n",
            "Stream mapping:\n",
            "  Stream #0:0 -> #0:0 (rawvideo (native) -> h264 (libx264))\n",
            "Press [q] to stop, [?] for help\n",
            "\u001b[1;36m[libx264 @ 0x5acdf1d97d40] \u001b[0musing SAR=1/1\n",
            "\u001b[1;36m[libx264 @ 0x5acdf1d97d40] \u001b[0musing cpu capabilities: MMX2 SSE2Fast SSSE3 SSE4.2 AVX FMA3 BMI2 AVX2\n",
            "\u001b[1;36m[libx264 @ 0x5acdf1d97d40] \u001b[0mprofile High, level 4.0, 4:2:0, 8-bit\n",
            "\u001b[1;36m[libx264 @ 0x5acdf1d97d40] \u001b[0m264 - core 163 r3060 5db6aa6 - H.264/MPEG-4 AVC codec - Copyleft 2003-2021 - http://www.videolan.org/x264.html - options: cabac=1 ref=3 deblock=1:0:0 analyse=0x3:0x113 me=hex subme=7 psy=1 psy_rd=1.00:0.00 mixed_ref=1 me_range=16 chroma_me=1 trellis=1 8x8dct=1 cqm=0 deadzone=21,11 fast_pskip=1 chroma_qp_offset=-2 threads=3 lookahead_threads=1 sliced_threads=0 nr=0 decimate=1 interlaced=0 bluray_compat=0 constrained_intra=0 bframes=3 b_pyramid=2 b_adapt=1 b_bias=0 direct=1 weightb=1 open_gop=0 weightp=2 keyint=250 keyint_min=25 scenecut=40 intra_refresh=0 rc_lookahead=40 rc=abr mbtree=1 bitrate=5000 ratetol=1.0 qcomp=0.60 qpmin=0 qpmax=69 qpstep=4 ip_ratio=1.40 aq=1:1.00\n",
            "Output #0, mp4, to 'touchdown_pass_1080p.mp4':\n",
            "  Metadata:\n",
            "    encoder         : Lavf58.76.100\n",
            "  Stream #0:0: Video: h264 (avc1 / 0x31637661), yuv420p(tv, progressive), 1920x1080 [SAR 1:1 DAR 16:9], q=2-31, 5000 kb/s, 29.97 fps, 30k tbn\n",
            "    Metadata:\n",
            "      encoder         : Lavc58.134.100 libx264\n",
            "    Side data:\n",
            "      cpb: bitrate max/min/avg: 0/0/5000000 buffer size: 0 vbv_delay: N/A\n",
            "frame=  570 fps=4.8 q=-1.0 Lsize=   11395kB time=00:00:18.91 bitrate=4934.3kbits/s speed=0.16x    \n",
            "video:11388kB audio:0kB subtitle:0kB other streams:0kB global headers:0kB muxing overhead: 0.064753%\n",
            "\u001b[1;36m[libx264 @ 0x5acdf1d97d40] \u001b[0mframe I:5     Avg QP:23.02  size:118068\n",
            "\u001b[1;36m[libx264 @ 0x5acdf1d97d40] \u001b[0mframe P:173   Avg QP:26.64  size: 36601\n",
            "\u001b[1;36m[libx264 @ 0x5acdf1d97d40] \u001b[0mframe B:392   Avg QP:29.36  size: 12087\n",
            "\u001b[1;36m[libx264 @ 0x5acdf1d97d40] \u001b[0mconsecutive B-frames:  8.1%  0.4%  1.1% 90.5%\n",
            "\u001b[1;36m[libx264 @ 0x5acdf1d97d40] \u001b[0mmb I  I16..4: 10.7% 82.9%  6.4%\n",
            "\u001b[1;36m[libx264 @ 0x5acdf1d97d40] \u001b[0mmb P  I16..4:  1.5% 10.7%  1.4%  P16..4: 42.3%  9.2%  5.8%  0.0%  0.0%    skip:29.0%\n",
            "\u001b[1;36m[libx264 @ 0x5acdf1d97d40] \u001b[0mmb B  I16..4:  0.1%  1.0%  0.2%  B16..8: 41.2%  4.1%  0.8%  direct: 1.4%  skip:51.3%  L0:45.8% L1:49.7% BI: 4.4%\n",
            "\u001b[1;36m[libx264 @ 0x5acdf1d97d40] \u001b[0mfinal ratefactor: 24.19\n",
            "\u001b[1;36m[libx264 @ 0x5acdf1d97d40] \u001b[0m8x8 transform intra:79.3% inter:83.0%\n",
            "\u001b[1;36m[libx264 @ 0x5acdf1d97d40] \u001b[0mcoded y,uvDC,uvAC intra: 67.8% 55.6% 15.1% inter: 14.2% 7.5% 0.1%\n",
            "\u001b[1;36m[libx264 @ 0x5acdf1d97d40] \u001b[0mi16 v,h,dc,p: 24% 20%  3% 53%\n",
            "\u001b[1;36m[libx264 @ 0x5acdf1d97d40] \u001b[0mi8 v,h,dc,ddl,ddr,vr,hd,vl,hu: 15% 16% 15%  5% 12% 11% 10%  6%  9%\n",
            "\u001b[1;36m[libx264 @ 0x5acdf1d97d40] \u001b[0mi4 v,h,dc,ddl,ddr,vr,hd,vl,hu: 20% 17% 15%  6% 12% 10%  9%  6%  5%\n",
            "\u001b[1;36m[libx264 @ 0x5acdf1d97d40] \u001b[0mi8c dc,h,v,p: 63% 17% 16%  4%\n",
            "\u001b[1;36m[libx264 @ 0x5acdf1d97d40] \u001b[0mWeighted P-Frames: Y:12.7% UV:6.4%\n",
            "\u001b[1;36m[libx264 @ 0x5acdf1d97d40] \u001b[0mref P L0: 58.9% 22.3% 12.9%  5.4%  0.6%\n",
            "\u001b[1;36m[libx264 @ 0x5acdf1d97d40] \u001b[0mref B L0: 92.8%  5.7%  1.5%\n",
            "\u001b[1;36m[libx264 @ 0x5acdf1d97d40] \u001b[0mref B L1: 97.5%  2.5%\n",
            "\u001b[1;36m[libx264 @ 0x5acdf1d97d40] \u001b[0mkb/s:4904.82\n"
          ]
        }
      ]
    },
    {
      "cell_type": "markdown",
      "source": [
        "For red_kayak_1080p.y4m:"
      ],
      "metadata": {
        "id": "Kj5oQdD3dgWs"
      }
    },
    {
      "cell_type": "code",
      "source": [
        "!ffmpeg -y -i /content/red_kayak_1080p.y4m -pix_fmt yuv420p -codec:v libx264 -b:v 5000k red_kayak_1080p.mp4\n"
      ],
      "metadata": {
        "colab": {
          "base_uri": "https://localhost:8080/"
        },
        "id": "B4wcYawkbp93",
        "outputId": "f4a0ccfd-397d-44ba-ee9b-5b17417d8994"
      },
      "execution_count": null,
      "outputs": [
        {
          "output_type": "stream",
          "name": "stdout",
          "text": [
            "ffmpeg version 4.4.2-0ubuntu0.22.04.1 Copyright (c) 2000-2021 the FFmpeg developers\n",
            "  built with gcc 11 (Ubuntu 11.2.0-19ubuntu1)\n",
            "  configuration: --prefix=/usr --extra-version=0ubuntu0.22.04.1 --toolchain=hardened --libdir=/usr/lib/x86_64-linux-gnu --incdir=/usr/include/x86_64-linux-gnu --arch=amd64 --enable-gpl --disable-stripping --enable-gnutls --enable-ladspa --enable-libaom --enable-libass --enable-libbluray --enable-libbs2b --enable-libcaca --enable-libcdio --enable-libcodec2 --enable-libdav1d --enable-libflite --enable-libfontconfig --enable-libfreetype --enable-libfribidi --enable-libgme --enable-libgsm --enable-libjack --enable-libmp3lame --enable-libmysofa --enable-libopenjpeg --enable-libopenmpt --enable-libopus --enable-libpulse --enable-librabbitmq --enable-librubberband --enable-libshine --enable-libsnappy --enable-libsoxr --enable-libspeex --enable-libsrt --enable-libssh --enable-libtheora --enable-libtwolame --enable-libvidstab --enable-libvorbis --enable-libvpx --enable-libwebp --enable-libx265 --enable-libxml2 --enable-libxvid --enable-libzimg --enable-libzmq --enable-libzvbi --enable-lv2 --enable-omx --enable-openal --enable-opencl --enable-opengl --enable-sdl2 --enable-pocketsphinx --enable-librsvg --enable-libmfx --enable-libdc1394 --enable-libdrm --enable-libiec61883 --enable-chromaprint --enable-frei0r --enable-libx264 --enable-shared\n",
            "  libavutil      56. 70.100 / 56. 70.100\n",
            "  libavcodec     58.134.100 / 58.134.100\n",
            "  libavformat    58. 76.100 / 58. 76.100\n",
            "  libavdevice    58. 13.100 / 58. 13.100\n",
            "  libavfilter     7.110.100 /  7.110.100\n",
            "  libswscale      5.  9.100 /  5.  9.100\n",
            "  libswresample   3.  9.100 /  3.  9.100\n",
            "  libpostproc    55.  9.100 / 55.  9.100\n",
            "Input #0, yuv4mpegpipe, from '/content/red_kayak_1080p.y4m':\n",
            "  Duration: 00:00:19.02, start: 0.000000, bitrate: 994335 kb/s\n",
            "  Stream #0:0: Video: rawvideo (Y42B / 0x42323459), yuv422p(progressive), 1920x1080, SAR 1:1 DAR 16:9, 29.97 fps, 29.97 tbr, 29.97 tbn, 29.97 tbc\n",
            "Stream mapping:\n",
            "  Stream #0:0 -> #0:0 (rawvideo (native) -> h264 (libx264))\n",
            "Press [q] to stop, [?] for help\n",
            "\u001b[1;36m[libx264 @ 0x58cb56b1dd40] \u001b[0musing SAR=1/1\n",
            "\u001b[1;36m[libx264 @ 0x58cb56b1dd40] \u001b[0musing cpu capabilities: MMX2 SSE2Fast SSSE3 SSE4.2 AVX FMA3 BMI2 AVX2\n",
            "\u001b[1;36m[libx264 @ 0x58cb56b1dd40] \u001b[0mprofile High, level 4.0, 4:2:0, 8-bit\n",
            "\u001b[1;36m[libx264 @ 0x58cb56b1dd40] \u001b[0m264 - core 163 r3060 5db6aa6 - H.264/MPEG-4 AVC codec - Copyleft 2003-2021 - http://www.videolan.org/x264.html - options: cabac=1 ref=3 deblock=1:0:0 analyse=0x3:0x113 me=hex subme=7 psy=1 psy_rd=1.00:0.00 mixed_ref=1 me_range=16 chroma_me=1 trellis=1 8x8dct=1 cqm=0 deadzone=21,11 fast_pskip=1 chroma_qp_offset=-2 threads=3 lookahead_threads=1 sliced_threads=0 nr=0 decimate=1 interlaced=0 bluray_compat=0 constrained_intra=0 bframes=3 b_pyramid=2 b_adapt=1 b_bias=0 direct=1 weightb=1 open_gop=0 weightp=2 keyint=250 keyint_min=25 scenecut=40 intra_refresh=0 rc_lookahead=40 rc=abr mbtree=1 bitrate=5000 ratetol=1.0 qcomp=0.60 qpmin=0 qpmax=69 qpstep=4 ip_ratio=1.40 aq=1:1.00\n",
            "Output #0, mp4, to 'red_kayak_1080p.mp4':\n",
            "  Metadata:\n",
            "    encoder         : Lavf58.76.100\n",
            "  Stream #0:0: Video: h264 (avc1 / 0x31637661), yuv420p(tv, progressive), 1920x1080 [SAR 1:1 DAR 16:9], q=2-31, 5000 kb/s, 29.97 fps, 30k tbn\n",
            "    Metadata:\n",
            "      encoder         : Lavc58.134.100 libx264\n",
            "    Side data:\n",
            "      cpb: bitrate max/min/avg: 0/0/5000000 buffer size: 0 vbv_delay: N/A\n",
            "frame=  570 fps=4.5 q=-1.0 Lsize=   10657kB time=00:00:18.91 bitrate=4614.6kbits/s speed=0.149x    \n",
            "video:10653kB audio:0kB subtitle:0kB other streams:0kB global headers:0kB muxing overhead: 0.039666%\n",
            "\u001b[1;36m[libx264 @ 0x58cb56b1dd40] \u001b[0mframe I:3     Avg QP:29.76  size: 78723\n",
            "\u001b[1;36m[libx264 @ 0x58cb56b1dd40] \u001b[0mframe P:475   Avg QP:37.03  size: 21094\n",
            "\u001b[1;36m[libx264 @ 0x58cb56b1dd40] \u001b[0mframe B:92    Avg QP:35.11  size:  7085\n",
            "\u001b[1;36m[libx264 @ 0x58cb56b1dd40] \u001b[0mconsecutive B-frames: 78.2%  0.7%  0.0% 21.1%\n",
            "\u001b[1;36m[libx264 @ 0x58cb56b1dd40] \u001b[0mmb I  I16..4: 19.6% 72.2%  8.2%\n",
            "\u001b[1;36m[libx264 @ 0x58cb56b1dd40] \u001b[0mmb P  I16..4: 11.7% 18.8%  1.0%  P16..4: 34.9%  4.9%  1.4%  0.0%  0.0%    skip:27.4%\n",
            "\u001b[1;36m[libx264 @ 0x58cb56b1dd40] \u001b[0mmb B  I16..4:  0.5%  0.6%  0.0%  B16..8: 33.1%  1.8%  0.2%  direct: 1.0%  skip:62.8%  L0:38.8% L1:59.5% BI: 1.6%\n",
            "\u001b[1;36m[libx264 @ 0x58cb56b1dd40] \u001b[0mfinal ratefactor: 31.50\n",
            "\u001b[1;36m[libx264 @ 0x58cb56b1dd40] \u001b[0m8x8 transform intra:59.8% inter:88.9%\n",
            "\u001b[1;36m[libx264 @ 0x58cb56b1dd40] \u001b[0mcoded y,uvDC,uvAC intra: 27.8% 22.6% 1.3% inter: 15.8% 10.2% 0.0%\n",
            "\u001b[1;36m[libx264 @ 0x58cb56b1dd40] \u001b[0mi16 v,h,dc,p: 16% 49%  7% 28%\n",
            "\u001b[1;36m[libx264 @ 0x58cb56b1dd40] \u001b[0mi8 v,h,dc,ddl,ddr,vr,hd,vl,hu:  6% 23% 34%  3%  8%  4% 13%  2%  6%\n",
            "\u001b[1;36m[libx264 @ 0x58cb56b1dd40] \u001b[0mi4 v,h,dc,ddl,ddr,vr,hd,vl,hu:  7% 24% 25%  3% 15%  6% 14%  2%  4%\n",
            "\u001b[1;36m[libx264 @ 0x58cb56b1dd40] \u001b[0mi8c dc,h,v,p: 84% 13%  2%  1%\n",
            "\u001b[1;36m[libx264 @ 0x58cb56b1dd40] \u001b[0mWeighted P-Frames: Y:0.2% UV:0.2%\n",
            "\u001b[1;36m[libx264 @ 0x58cb56b1dd40] \u001b[0mref P L0: 56.8% 13.7% 18.9% 10.6%  0.0%\n",
            "\u001b[1;36m[libx264 @ 0x58cb56b1dd40] \u001b[0mref B L0: 90.3%  7.2%  2.5%\n",
            "\u001b[1;36m[libx264 @ 0x58cb56b1dd40] \u001b[0mref B L1: 96.1%  3.9%\n",
            "\u001b[1;36m[libx264 @ 0x58cb56b1dd40] \u001b[0mkb/s:4588.18\n"
          ]
        }
      ]
    },
    {
      "cell_type": "markdown",
      "source": [
        "For crowd_run_1080p50.y4m:"
      ],
      "metadata": {
        "id": "-FAkedMyddA7"
      }
    },
    {
      "cell_type": "code",
      "source": [
        "!ffmpeg -y -i /content/crowd_run_1080p50.y4m -pix_fmt yuv420p -codec:v libx264 -b:v 5000k crowd_run_1080p50.mp4\n"
      ],
      "metadata": {
        "colab": {
          "base_uri": "https://localhost:8080/"
        },
        "id": "szDpTHjfbqDq",
        "outputId": "16ecad92-9d63-48ba-94cf-9752bb509008"
      },
      "execution_count": null,
      "outputs": [
        {
          "output_type": "stream",
          "name": "stdout",
          "text": [
            "ffmpeg version 4.4.2-0ubuntu0.22.04.1 Copyright (c) 2000-2021 the FFmpeg developers\n",
            "  built with gcc 11 (Ubuntu 11.2.0-19ubuntu1)\n",
            "  configuration: --prefix=/usr --extra-version=0ubuntu0.22.04.1 --toolchain=hardened --libdir=/usr/lib/x86_64-linux-gnu --incdir=/usr/include/x86_64-linux-gnu --arch=amd64 --enable-gpl --disable-stripping --enable-gnutls --enable-ladspa --enable-libaom --enable-libass --enable-libbluray --enable-libbs2b --enable-libcaca --enable-libcdio --enable-libcodec2 --enable-libdav1d --enable-libflite --enable-libfontconfig --enable-libfreetype --enable-libfribidi --enable-libgme --enable-libgsm --enable-libjack --enable-libmp3lame --enable-libmysofa --enable-libopenjpeg --enable-libopenmpt --enable-libopus --enable-libpulse --enable-librabbitmq --enable-librubberband --enable-libshine --enable-libsnappy --enable-libsoxr --enable-libspeex --enable-libsrt --enable-libssh --enable-libtheora --enable-libtwolame --enable-libvidstab --enable-libvorbis --enable-libvpx --enable-libwebp --enable-libx265 --enable-libxml2 --enable-libxvid --enable-libzimg --enable-libzmq --enable-libzvbi --enable-lv2 --enable-omx --enable-openal --enable-opencl --enable-opengl --enable-sdl2 --enable-pocketsphinx --enable-librsvg --enable-libmfx --enable-libdc1394 --enable-libdrm --enable-libiec61883 --enable-chromaprint --enable-frei0r --enable-libx264 --enable-shared\n",
            "  libavutil      56. 70.100 / 56. 70.100\n",
            "  libavcodec     58.134.100 / 58.134.100\n",
            "  libavformat    58. 76.100 / 58. 76.100\n",
            "  libavdevice    58. 13.100 / 58. 13.100\n",
            "  libavfilter     7.110.100 /  7.110.100\n",
            "  libswscale      5.  9.100 /  5.  9.100\n",
            "  libswresample   3.  9.100 /  3.  9.100\n",
            "  libpostproc    55.  9.100 / 55.  9.100\n",
            "Input #0, yuv4mpegpipe, from '/content/crowd_run_1080p50.y4m':\n",
            "  Duration: 00:00:10.00, start: 0.000000, bitrate: 1244162 kb/s\n",
            "  Stream #0:0: Video: rawvideo (I420 / 0x30323449), yuv420p(progressive), 1920x1080, SAR 1:1 DAR 16:9, 50 fps, 50 tbr, 50 tbn, 50 tbc\n",
            "Stream mapping:\n",
            "  Stream #0:0 -> #0:0 (rawvideo (native) -> h264 (libx264))\n",
            "Press [q] to stop, [?] for help\n",
            "\u001b[1;36m[libx264 @ 0x560a30963d40] \u001b[0musing SAR=1/1\n",
            "\u001b[1;36m[libx264 @ 0x560a30963d40] \u001b[0musing cpu capabilities: MMX2 SSE2Fast SSSE3 SSE4.2 AVX FMA3 BMI2 AVX2\n",
            "\u001b[1;36m[libx264 @ 0x560a30963d40] \u001b[0mprofile High, level 4.2, 4:2:0, 8-bit\n",
            "\u001b[1;36m[libx264 @ 0x560a30963d40] \u001b[0m264 - core 163 r3060 5db6aa6 - H.264/MPEG-4 AVC codec - Copyleft 2003-2021 - http://www.videolan.org/x264.html - options: cabac=1 ref=3 deblock=1:0:0 analyse=0x3:0x113 me=hex subme=7 psy=1 psy_rd=1.00:0.00 mixed_ref=1 me_range=16 chroma_me=1 trellis=1 8x8dct=1 cqm=0 deadzone=21,11 fast_pskip=1 chroma_qp_offset=-2 threads=3 lookahead_threads=1 sliced_threads=0 nr=0 decimate=1 interlaced=0 bluray_compat=0 constrained_intra=0 bframes=3 b_pyramid=2 b_adapt=1 b_bias=0 direct=1 weightb=1 open_gop=0 weightp=2 keyint=250 keyint_min=25 scenecut=40 intra_refresh=0 rc_lookahead=40 rc=abr mbtree=1 bitrate=5000 ratetol=1.0 qcomp=0.60 qpmin=0 qpmax=69 qpstep=4 ip_ratio=1.40 aq=1:1.00\n",
            "Output #0, mp4, to 'crowd_run_1080p50.mp4':\n",
            "  Metadata:\n",
            "    encoder         : Lavf58.76.100\n",
            "  Stream #0:0: Video: h264 (avc1 / 0x31637661), yuv420p(progressive), 1920x1080 [SAR 1:1 DAR 16:9], q=2-31, 5000 kb/s, 50 fps, 12800 tbn\n",
            "    Metadata:\n",
            "      encoder         : Lavc58.134.100 libx264\n",
            "    Side data:\n",
            "      cpb: bitrate max/min/avg: 0/0/5000000 buffer size: 0 vbv_delay: N/A\n",
            "frame=  500 fps=6.4 q=-1.0 Lsize=    6115kB time=00:00:09.94 bitrate=5039.6kbits/s speed=0.128x    \n",
            "video:6108kB audio:0kB subtitle:0kB other streams:0kB global headers:0kB muxing overhead: 0.111228%\n",
            "\u001b[1;36m[libx264 @ 0x560a30963d40] \u001b[0mframe I:2     Avg QP:33.65  size:172352\n",
            "\u001b[1;36m[libx264 @ 0x560a30963d40] \u001b[0mframe P:126   Avg QP:41.55  size: 25795\n",
            "\u001b[1;36m[libx264 @ 0x560a30963d40] \u001b[0mframe B:372   Avg QP:44.20  size:  7148\n",
            "\u001b[1;36m[libx264 @ 0x560a30963d40] \u001b[0mconsecutive B-frames:  0.8%  0.0%  0.0% 99.2%\n",
            "\u001b[1;36m[libx264 @ 0x560a30963d40] \u001b[0mmb I  I16..4: 11.4% 62.7% 25.9%\n",
            "\u001b[1;36m[libx264 @ 0x560a30963d40] \u001b[0mmb P  I16..4:  0.6%  5.1%  0.4%  P16..4: 37.1% 12.5%  6.4%  0.0%  0.0%    skip:37.9%\n",
            "\u001b[1;36m[libx264 @ 0x560a30963d40] \u001b[0mmb B  I16..4:  0.0%  0.1%  0.0%  B16..8: 45.1%  2.8%  0.3%  direct: 0.5%  skip:51.3%  L0:43.7% L1:55.3% BI: 1.0%\n",
            "\u001b[1;36m[libx264 @ 0x560a30963d40] \u001b[0mfinal ratefactor: 34.46\n",
            "\u001b[1;36m[libx264 @ 0x560a30963d40] \u001b[0m8x8 transform intra:79.5% inter:81.6%\n",
            "\u001b[1;36m[libx264 @ 0x560a30963d40] \u001b[0mcoded y,uvDC,uvAC intra: 55.3% 70.4% 34.7% inter: 7.5% 7.6% 0.4%\n",
            "\u001b[1;36m[libx264 @ 0x560a30963d40] \u001b[0mi16 v,h,dc,p: 42% 24%  8% 26%\n",
            "\u001b[1;36m[libx264 @ 0x560a30963d40] \u001b[0mi8 v,h,dc,ddl,ddr,vr,hd,vl,hu: 18%  9% 22%  8%  8% 10%  8% 10%  8%\n",
            "\u001b[1;36m[libx264 @ 0x560a30963d40] \u001b[0mi4 v,h,dc,ddl,ddr,vr,hd,vl,hu: 21% 14% 22%  8%  7%  8%  7%  7%  6%\n",
            "\u001b[1;36m[libx264 @ 0x560a30963d40] \u001b[0mi8c dc,h,v,p: 70% 10% 17%  3%\n",
            "\u001b[1;36m[libx264 @ 0x560a30963d40] \u001b[0mWeighted P-Frames: Y:1.6% UV:0.0%\n",
            "\u001b[1;36m[libx264 @ 0x560a30963d40] \u001b[0mref P L0: 68.5% 11.2% 15.1%  5.2%  0.1%\n",
            "\u001b[1;36m[libx264 @ 0x560a30963d40] \u001b[0mref B L0: 96.5%  2.9%  0.6%\n",
            "\u001b[1;36m[libx264 @ 0x560a30963d40] \u001b[0mref B L1: 99.2%  0.8%\n",
            "\u001b[1;36m[libx264 @ 0x560a30963d40] \u001b[0mkb/s:5003.23\n"
          ]
        }
      ]
    },
    {
      "cell_type": "markdown",
      "source": [
        "For WITCHER3.y4m:"
      ],
      "metadata": {
        "id": "X-r1jHOOdb2L"
      }
    },
    {
      "cell_type": "code",
      "source": [
        "!ffmpeg -y -i /content/WITCHER3.y4m -pix_fmt yuv420p -codec:v libx264 -b:v 5000k WITCHER3.mp4\n"
      ],
      "metadata": {
        "colab": {
          "base_uri": "https://localhost:8080/"
        },
        "id": "yXLOHpxUbqGo",
        "outputId": "2716f6b9-3527-4d92-dbcb-e1e6ac6bf1d7"
      },
      "execution_count": null,
      "outputs": [
        {
          "output_type": "stream",
          "name": "stdout",
          "text": [
            "ffmpeg version 4.4.2-0ubuntu0.22.04.1 Copyright (c) 2000-2021 the FFmpeg developers\n",
            "  built with gcc 11 (Ubuntu 11.2.0-19ubuntu1)\n",
            "  configuration: --prefix=/usr --extra-version=0ubuntu0.22.04.1 --toolchain=hardened --libdir=/usr/lib/x86_64-linux-gnu --incdir=/usr/include/x86_64-linux-gnu --arch=amd64 --enable-gpl --disable-stripping --enable-gnutls --enable-ladspa --enable-libaom --enable-libass --enable-libbluray --enable-libbs2b --enable-libcaca --enable-libcdio --enable-libcodec2 --enable-libdav1d --enable-libflite --enable-libfontconfig --enable-libfreetype --enable-libfribidi --enable-libgme --enable-libgsm --enable-libjack --enable-libmp3lame --enable-libmysofa --enable-libopenjpeg --enable-libopenmpt --enable-libopus --enable-libpulse --enable-librabbitmq --enable-librubberband --enable-libshine --enable-libsnappy --enable-libsoxr --enable-libspeex --enable-libsrt --enable-libssh --enable-libtheora --enable-libtwolame --enable-libvidstab --enable-libvorbis --enable-libvpx --enable-libwebp --enable-libx265 --enable-libxml2 --enable-libxvid --enable-libzimg --enable-libzmq --enable-libzvbi --enable-lv2 --enable-omx --enable-openal --enable-opencl --enable-opengl --enable-sdl2 --enable-pocketsphinx --enable-librsvg --enable-libmfx --enable-libdc1394 --enable-libdrm --enable-libiec61883 --enable-chromaprint --enable-frei0r --enable-libx264 --enable-shared\n",
            "  libavutil      56. 70.100 / 56. 70.100\n",
            "  libavcodec     58.134.100 / 58.134.100\n",
            "  libavformat    58. 76.100 / 58. 76.100\n",
            "  libavdevice    58. 13.100 / 58. 13.100\n",
            "  libavfilter     7.110.100 /  7.110.100\n",
            "  libswscale      5.  9.100 /  5.  9.100\n",
            "  libswresample   3.  9.100 /  3.  9.100\n",
            "  libpostproc    55.  9.100 / 55.  9.100\n",
            "Input #0, yuv4mpegpipe, from '/content/WITCHER3.y4m':\n",
            "  Duration: 00:01:00.03, start: 0.000000, bitrate: 1492994 kb/s\n",
            "  Stream #0:0: Video: rawvideo (I420 / 0x30323449), yuv420p(progressive), 1920x1080, 60 fps, 60 tbr, 60 tbn, 60 tbc\n",
            "Stream mapping:\n",
            "  Stream #0:0 -> #0:0 (rawvideo (native) -> h264 (libx264))\n",
            "Press [q] to stop, [?] for help\n",
            "\u001b[1;36m[libx264 @ 0x5c379b4cde40] \u001b[0musing cpu capabilities: MMX2 SSE2Fast SSSE3 SSE4.2 AVX FMA3 BMI2 AVX2\n",
            "\u001b[1;36m[libx264 @ 0x5c379b4cde40] \u001b[0mprofile High, level 4.2, 4:2:0, 8-bit\n",
            "\u001b[1;36m[libx264 @ 0x5c379b4cde40] \u001b[0m264 - core 163 r3060 5db6aa6 - H.264/MPEG-4 AVC codec - Copyleft 2003-2021 - http://www.videolan.org/x264.html - options: cabac=1 ref=3 deblock=1:0:0 analyse=0x3:0x113 me=hex subme=7 psy=1 psy_rd=1.00:0.00 mixed_ref=1 me_range=16 chroma_me=1 trellis=1 8x8dct=1 cqm=0 deadzone=21,11 fast_pskip=1 chroma_qp_offset=-2 threads=3 lookahead_threads=1 sliced_threads=0 nr=0 decimate=1 interlaced=0 bluray_compat=0 constrained_intra=0 bframes=3 b_pyramid=2 b_adapt=1 b_bias=0 direct=1 weightb=1 open_gop=0 weightp=2 keyint=250 keyint_min=25 scenecut=40 intra_refresh=0 rc_lookahead=40 rc=abr mbtree=1 bitrate=5000 ratetol=1.0 qcomp=0.60 qpmin=0 qpmax=69 qpstep=4 ip_ratio=1.40 aq=1:1.00\n",
            "Output #0, mp4, to 'WITCHER3.mp4':\n",
            "  Metadata:\n",
            "    encoder         : Lavf58.76.100\n",
            "  Stream #0:0: Video: h264 (avc1 / 0x31637661), yuv420p(progressive), 1920x1080, q=2-31, 5000 kb/s, 60 fps, 15360 tbn\n",
            "    Metadata:\n",
            "      encoder         : Lavc58.134.100 libx264\n",
            "    Side data:\n",
            "      cpb: bitrate max/min/avg: 0/0/5000000 buffer size: 0 vbv_delay: N/A\n",
            "frame= 3602 fps=6.9 q=-1.0 Lsize=   33074kB time=00:00:59.98 bitrate=4516.9kbits/s speed=0.114x    \n",
            "video:33030kB audio:0kB subtitle:0kB other streams:0kB global headers:0kB muxing overhead: 0.130727%\n",
            "\u001b[1;36m[libx264 @ 0x5c379b4cde40] \u001b[0mframe I:24    Avg QP:27.60  size: 63410\n",
            "\u001b[1;36m[libx264 @ 0x5c379b4cde40] \u001b[0mframe P:942   Avg QP:30.64  size: 16805\n",
            "\u001b[1;36m[libx264 @ 0x5c379b4cde40] \u001b[0mframe B:2636  Avg QP:32.38  size:  6248\n",
            "\u001b[1;36m[libx264 @ 0x5c379b4cde40] \u001b[0mconsecutive B-frames:  2.0%  0.8%  1.2% 95.9%\n",
            "\u001b[1;36m[libx264 @ 0x5c379b4cde40] \u001b[0mmb I  I16..4: 14.1% 74.7% 11.3%\n",
            "\u001b[1;36m[libx264 @ 0x5c379b4cde40] \u001b[0mmb P  I16..4:  1.7%  6.5%  0.6%  P16..4: 35.1%  4.1%  3.6%  0.0%  0.0%    skip:48.4%\n",
            "\u001b[1;36m[libx264 @ 0x5c379b4cde40] \u001b[0mmb B  I16..4:  0.1%  0.3%  0.0%  B16..8: 42.6%  0.9%  0.1%  direct: 0.4%  skip:55.4%  L0:47.0% L1:52.6% BI: 0.4%\n",
            "\u001b[1;36m[libx264 @ 0x5c379b4cde40] \u001b[0mfinal ratefactor: 26.42\n",
            "\u001b[1;36m[libx264 @ 0x5c379b4cde40] \u001b[0m8x8 transform intra:74.1% inter:88.7%\n",
            "\u001b[1;36m[libx264 @ 0x5c379b4cde40] \u001b[0mcoded y,uvDC,uvAC intra: 47.1% 25.0% 3.7% inter: 7.0% 3.1% 0.1%\n",
            "\u001b[1;36m[libx264 @ 0x5c379b4cde40] \u001b[0mi16 v,h,dc,p: 30% 29% 13% 28%\n",
            "\u001b[1;36m[libx264 @ 0x5c379b4cde40] \u001b[0mi8 v,h,dc,ddl,ddr,vr,hd,vl,hu: 13% 11% 32%  7%  8%  8%  9%  5%  6%\n",
            "\u001b[1;36m[libx264 @ 0x5c379b4cde40] \u001b[0mi4 v,h,dc,ddl,ddr,vr,hd,vl,hu: 20% 16% 27%  7%  8%  7%  7%  4%  4%\n",
            "\u001b[1;36m[libx264 @ 0x5c379b4cde40] \u001b[0mi8c dc,h,v,p: 84%  8%  7%  1%\n",
            "\u001b[1;36m[libx264 @ 0x5c379b4cde40] \u001b[0mWeighted P-Frames: Y:3.3% UV:1.3%\n",
            "\u001b[1;36m[libx264 @ 0x5c379b4cde40] \u001b[0mref P L0: 56.7% 17.2% 17.7%  8.2%  0.2%\n",
            "\u001b[1;36m[libx264 @ 0x5c379b4cde40] \u001b[0mref B L0: 89.6%  8.0%  2.5%\n",
            "\u001b[1;36m[libx264 @ 0x5c379b4cde40] \u001b[0mref B L1: 96.1%  3.9%\n",
            "\u001b[1;36m[libx264 @ 0x5c379b4cde40] \u001b[0mkb/s:4507.16\n"
          ]
        }
      ]
    },
    {
      "cell_type": "markdown",
      "source": [
        "Q2: (Motion Analysis)"
      ],
      "metadata": {
        "id": "ktMCLmiZiA90"
      }
    },
    {
      "cell_type": "markdown",
      "source": [
        "Extract Motion Vectors for every video"
      ],
      "metadata": {
        "id": "7wDkGj20fS2A"
      }
    },
    {
      "cell_type": "code",
      "source": [
        "!extract_mvs /content/sunflower_1080p25.mp4  -d"
      ],
      "metadata": {
        "id": "JOkeSrtPfSFJ"
      },
      "execution_count": null,
      "outputs": []
    },
    {
      "cell_type": "code",
      "source": [
        "!extract_mvs /content/touchdown_pass_1080p.mp4 -d"
      ],
      "metadata": {
        "id": "oj2TfTWVbqJp"
      },
      "execution_count": null,
      "outputs": []
    },
    {
      "cell_type": "code",
      "source": [
        "!extract_mvs /content/red_kayak_1080p.mp4 -d"
      ],
      "metadata": {
        "id": "S5afHbl-epku"
      },
      "execution_count": null,
      "outputs": []
    },
    {
      "cell_type": "code",
      "source": [
        "!extract_mvs /content/crowd_run_1080p50.mp4 -d"
      ],
      "metadata": {
        "id": "uVA1OSYneptH"
      },
      "execution_count": null,
      "outputs": []
    },
    {
      "cell_type": "code",
      "source": [
        "!extract_mvs /content/WITCHER3.mp4 -d"
      ],
      "metadata": {
        "id": "EiQIPlI1bqMW"
      },
      "execution_count": null,
      "outputs": []
    },
    {
      "cell_type": "markdown",
      "source": [
        "Sunflower"
      ],
      "metadata": {
        "id": "qDB8g9nLsuPP"
      }
    },
    {
      "cell_type": "code",
      "source": [
        "import glob\n",
        "import numpy as np\n",
        "import matplotlib.pyplot as plt\n",
        "import os\n",
        "\n",
        "mv_paths = '/content/out-2023-11-20T21:57:40sunflower/motion_vectors'\n",
        "total_motions = []\n",
        "\n",
        "for frame_no in range(len(glob.glob(f'{mv_paths}/*.npy'))):\n",
        "    motion_vectors = np.load(os.path.join(mv_paths, f\"mvs-{frame_no}.npy\"))\n",
        "    motion_x = motion_vectors[:, -3]\n",
        "    total_motion_x = np.sum(np.abs(motion_x))\n",
        "    motion_y = motion_vectors[:, -2]\n",
        "    total_motion_y = np.sum(np.abs(motion_y))\n",
        "    total_motion = total_motion_x + total_motion_y\n",
        "    total_motions.append(total_motion)\n",
        "\n",
        "# Calculate the mean of total motions\n",
        "average_total_motion = np.mean(total_motions)\n",
        "print(f\"\\nAverage Total Motion: {average_total_motion}\")\n"
      ],
      "metadata": {
        "colab": {
          "base_uri": "https://localhost:8080/"
        },
        "id": "AiI4qMokleAv",
        "outputId": "6201e899-e38c-4372-cdf0-54867c8c4f1a"
      },
      "execution_count": null,
      "outputs": [
        {
          "output_type": "stream",
          "name": "stdout",
          "text": [
            " Average Motion Activity: 623626.008\n"
          ]
        }
      ]
    },
    {
      "cell_type": "markdown",
      "source": [
        "touchdownpass"
      ],
      "metadata": {
        "id": "6p8e3nOmtCix"
      }
    },
    {
      "cell_type": "code",
      "source": [
        "import glob\n",
        "import numpy as np\n",
        "import matplotlib.pyplot as plt\n",
        "import os\n",
        "\n",
        "mv_paths = '/content/out-2023-11-20T21:57:40sunflower/motion_vectors'\n",
        "total_motions = []\n",
        "\n",
        "for frame_no in range(len(glob.glob(f'{mv_paths}/*.npy'))):\n",
        "    motion_vectors = np.load(os.path.join(mv_paths, f\"mvs-{frame_no}.npy\"))\n",
        "    motion_x = motion_vectors[:, -3]\n",
        "    total_motion_x = np.sum(np.abs(motion_x))\n",
        "    motion_y = motion_vectors[:, -2]\n",
        "    total_motion_y = np.sum(np.abs(motion_y))\n",
        "    total_motion = total_motion_x + total_motion_y\n",
        "    total_motions.append(total_motion)\n",
        "\n",
        "# Calculate the mean of total motions\n",
        "average_total_motion = np.mean(total_motions)\n",
        "print(f\"\\nAverage Total Motion: {average_total_motion}\")\n"
      ],
      "metadata": {
        "colab": {
          "base_uri": "https://localhost:8080/"
        },
        "id": "-GK5yA375NR5",
        "outputId": "6b71e1c6-77e8-425e-dcdd-0af41d615378"
      },
      "execution_count": null,
      "outputs": [
        {
          "output_type": "stream",
          "name": "stdout",
          "text": [
            " Average Motion Activity: 1088462.0824561403\n"
          ]
        }
      ]
    },
    {
      "cell_type": "markdown",
      "source": [
        "redkayak"
      ],
      "metadata": {
        "id": "WH6V5AjdtTml"
      }
    },
    {
      "cell_type": "code",
      "source": [
        "import glob\n",
        "import numpy as np\n",
        "import matplotlib.pyplot as plt\n",
        "import os\n",
        "\n",
        "mv_paths = '/content/out-2023-11-20T21:57:40sunflower/motion_vectors'\n",
        "total_motions = []\n",
        "\n",
        "for frame_no in range(len(glob.glob(f'{mv_paths}/*.npy'))):\n",
        "    motion_vectors = np.load(os.path.join(mv_paths, f\"mvs-{frame_no}.npy\"))\n",
        "    motion_x = motion_vectors[:, -3]\n",
        "    total_motion_x = np.sum(np.abs(motion_x))\n",
        "    motion_y = motion_vectors[:, -2]\n",
        "    total_motion_y = np.sum(np.abs(motion_y))\n",
        "    total_motion = total_motion_x + total_motion_y\n",
        "    total_motions.append(total_motion)\n",
        "\n",
        "# Calculate the mean of total motions\n",
        "average_total_motion = np.mean(total_motions)\n",
        "print(f\"\\nAverage Total Motion: {average_total_motion}\")\n"
      ],
      "metadata": {
        "colab": {
          "base_uri": "https://localhost:8080/"
        },
        "id": "SiAiG145vi8K",
        "outputId": "ab00e978-a0f4-48d0-d6f5-11e696445870"
      },
      "execution_count": null,
      "outputs": [
        {
          "output_type": "stream",
          "name": "stdout",
          "text": [
            " Average Motion Activity: 563473.0122807018\n"
          ]
        }
      ]
    },
    {
      "cell_type": "markdown",
      "source": [
        "crowdrun"
      ],
      "metadata": {
        "id": "9_iSto9d6QoJ"
      }
    },
    {
      "cell_type": "code",
      "source": [
        "import glob\n",
        "import numpy as np\n",
        "import matplotlib.pyplot as plt\n",
        "import os\n",
        "\n",
        "mv_paths = '/content/out-2023-11-20T21:57:40sunflower/motion_vectors'\n",
        "total_motions = []\n",
        "\n",
        "for frame_no in range(len(glob.glob(f'{mv_paths}/*.npy'))):\n",
        "    motion_vectors = np.load(os.path.join(mv_paths, f\"mvs-{frame_no}.npy\"))\n",
        "    motion_x = motion_vectors[:, -3]\n",
        "    total_motion_x = np.sum(np.abs(motion_x))\n",
        "    motion_y = motion_vectors[:, -2]\n",
        "    total_motion_y = np.sum(np.abs(motion_y))\n",
        "    total_motion = total_motion_x + total_motion_y\n",
        "    total_motions.append(total_motion)\n",
        "\n",
        "# Calculate the mean of total motions\n",
        "average_total_motion = np.mean(total_motions)\n",
        "print(f\"\\nAverage Total Motion: {average_total_motion}\")\n"
      ],
      "metadata": {
        "colab": {
          "base_uri": "https://localhost:8080/"
        },
        "id": "UYjO7ysz6TnF",
        "outputId": "6e70a7ca-231f-47f0-856a-53dfc45e6615"
      },
      "execution_count": null,
      "outputs": [
        {
          "output_type": "stream",
          "name": "stdout",
          "text": [
            " Average Motion Activity: 269468.848\n"
          ]
        }
      ]
    },
    {
      "cell_type": "markdown",
      "source": [
        "witcher"
      ],
      "metadata": {
        "id": "GWz8a9Ks6Ulz"
      }
    },
    {
      "cell_type": "code",
      "source": [
        "import glob\n",
        "import numpy as np\n",
        "import matplotlib.pyplot as plt\n",
        "import os\n",
        "\n",
        "mv_paths = '/content/out-2023-11-20T21:57:40sunflower/motion_vectors'\n",
        "total_motions = []\n",
        "\n",
        "for frame_no in range(len(glob.glob(f'{mv_paths}/*.npy'))):\n",
        "    motion_vectors = np.load(os.path.join(mv_paths, f\"mvs-{frame_no}.npy\"))\n",
        "    motion_x = motion_vectors[:, -3]\n",
        "    total_motion_x = np.sum(np.abs(motion_x))\n",
        "    motion_y = motion_vectors[:, -2]\n",
        "    total_motion_y = np.sum(np.abs(motion_y))\n",
        "    total_motion = total_motion_x + total_motion_y\n",
        "    total_motions.append(total_motion)\n",
        "\n",
        "# Calculate the mean of total motions\n",
        "average_total_motion = np.mean(total_motions)\n",
        "print(f\"\\nAverage Total Motion: {average_total_motion}\")\n"
      ],
      "metadata": {
        "colab": {
          "base_uri": "https://localhost:8080/"
        },
        "id": "zbZroBkh6bKe",
        "outputId": "0a8aa14f-ac5b-46fc-adde-96ae59588805"
      },
      "execution_count": null,
      "outputs": [
        {
          "output_type": "stream",
          "name": "stdout",
          "text": [
            " Average Motion Activity: 528368.6049416991\n"
          ]
        }
      ]
    },
    {
      "cell_type": "markdown",
      "source": [
        "Q3: (Object Detector)"
      ],
      "metadata": {
        "id": "ZK1fxYKgmsYZ"
      }
    },
    {
      "cell_type": "code",
      "source": [
        "!rm -r ./output_framesunflower/"
      ],
      "metadata": {
        "id": "MJOnucwNiQQL"
      },
      "execution_count": null,
      "outputs": []
    },
    {
      "cell_type": "code",
      "source": [
        "!mkdir -p ./output_framesunflower/"
      ],
      "metadata": {
        "id": "6f_f7yaVmppu"
      },
      "execution_count": null,
      "outputs": []
    },
    {
      "cell_type": "code",
      "source": [
        "!mkdir -p ./output_frametouchdownpass/"
      ],
      "metadata": {
        "id": "cjbxeqWi8OO_"
      },
      "execution_count": null,
      "outputs": []
    },
    {
      "cell_type": "code",
      "source": [
        "!mkdir -p ./output_frameredkayak/"
      ],
      "metadata": {
        "id": "STC91Z6P8Qhp"
      },
      "execution_count": null,
      "outputs": []
    },
    {
      "cell_type": "code",
      "source": [
        "!mkdir -p ./output_framecrowdrun/"
      ],
      "metadata": {
        "id": "T5ttPTmi8QuS"
      },
      "execution_count": null,
      "outputs": []
    },
    {
      "cell_type": "code",
      "source": [
        "!mkdir -p ./output_framewitcher/"
      ],
      "metadata": {
        "id": "VxSoSW0H8iwm"
      },
      "execution_count": null,
      "outputs": []
    },
    {
      "cell_type": "code",
      "source": [
        "!ffmpeg -i /content/sunflower_1080p25.y4m  ./output_framesunflower/frames%d.png"
      ],
      "metadata": {
        "colab": {
          "base_uri": "https://localhost:8080/"
        },
        "id": "R8txAFtumqDl",
        "outputId": "a2170ff1-5c01-4ed1-f468-90c806464189"
      },
      "execution_count": null,
      "outputs": [
        {
          "output_type": "stream",
          "name": "stdout",
          "text": [
            "ffmpeg version 4.4.2-0ubuntu0.22.04.1 Copyright (c) 2000-2021 the FFmpeg developers\n",
            "  built with gcc 11 (Ubuntu 11.2.0-19ubuntu1)\n",
            "  configuration: --prefix=/usr --extra-version=0ubuntu0.22.04.1 --toolchain=hardened --libdir=/usr/lib/x86_64-linux-gnu --incdir=/usr/include/x86_64-linux-gnu --arch=amd64 --enable-gpl --disable-stripping --enable-gnutls --enable-ladspa --enable-libaom --enable-libass --enable-libbluray --enable-libbs2b --enable-libcaca --enable-libcdio --enable-libcodec2 --enable-libdav1d --enable-libflite --enable-libfontconfig --enable-libfreetype --enable-libfribidi --enable-libgme --enable-libgsm --enable-libjack --enable-libmp3lame --enable-libmysofa --enable-libopenjpeg --enable-libopenmpt --enable-libopus --enable-libpulse --enable-librabbitmq --enable-librubberband --enable-libshine --enable-libsnappy --enable-libsoxr --enable-libspeex --enable-libsrt --enable-libssh --enable-libtheora --enable-libtwolame --enable-libvidstab --enable-libvorbis --enable-libvpx --enable-libwebp --enable-libx265 --enable-libxml2 --enable-libxvid --enable-libzimg --enable-libzmq --enable-libzvbi --enable-lv2 --enable-omx --enable-openal --enable-opencl --enable-opengl --enable-sdl2 --enable-pocketsphinx --enable-librsvg --enable-libmfx --enable-libdc1394 --enable-libdrm --enable-libiec61883 --enable-chromaprint --enable-frei0r --enable-libx264 --enable-shared\n",
            "  libavutil      56. 70.100 / 56. 70.100\n",
            "  libavcodec     58.134.100 / 58.134.100\n",
            "  libavformat    58. 76.100 / 58. 76.100\n",
            "  libavdevice    58. 13.100 / 58. 13.100\n",
            "  libavfilter     7.110.100 /  7.110.100\n",
            "  libswscale      5.  9.100 /  5.  9.100\n",
            "  libswresample   3.  9.100 /  3.  9.100\n",
            "  libpostproc    55.  9.100 / 55.  9.100\n",
            "Input #0, yuv4mpegpipe, from '/content/sunflower_1080p25.y4m':\n",
            "  Duration: 00:00:20.00, start: 0.000000, bitrate: 622081 kb/s\n",
            "  Stream #0:0: Video: rawvideo (I420 / 0x30323449), yuv420p(progressive), 1920x1080, SAR 1:1 DAR 16:9, 25 fps, 25 tbr, 25 tbn, 25 tbc\n",
            "Stream mapping:\n",
            "  Stream #0:0 -> #0:0 (rawvideo (native) -> png (native))\n",
            "Press [q] to stop, [?] for help\n",
            "Output #0, image2, to './output_framesunflower/frames%d.png':\n",
            "  Metadata:\n",
            "    encoder         : Lavf58.76.100\n",
            "  Stream #0:0: Video: png, rgb24(pc, gbr/unknown/unknown, progressive), 1920x1080 [SAR 1:1 DAR 16:9], q=2-31, 200 kb/s, 25 fps, 25 tbn\n",
            "    Metadata:\n",
            "      encoder         : Lavc58.134.100 png\n",
            "frame=  500 fps=3.6 q=-0.0 Lsize=N/A time=00:00:20.00 bitrate=N/A speed=0.144x    \n",
            "video:2261376kB audio:0kB subtitle:0kB other streams:0kB global headers:0kB muxing overhead: unknown\n"
          ]
        }
      ]
    },
    {
      "cell_type": "code",
      "source": [
        "!ffmpeg -i /content/touchdown_pass_1080p.y4m  ./output_frametouchdownpass/frames%d.png"
      ],
      "metadata": {
        "colab": {
          "base_uri": "https://localhost:8080/"
        },
        "id": "3QfNAW8EmqPw",
        "outputId": "5f487f1c-8279-45d9-de82-febec159f2a6"
      },
      "execution_count": null,
      "outputs": [
        {
          "output_type": "stream",
          "name": "stdout",
          "text": [
            "ffmpeg version 4.4.2-0ubuntu0.22.04.1 Copyright (c) 2000-2021 the FFmpeg developers\n",
            "  built with gcc 11 (Ubuntu 11.2.0-19ubuntu1)\n",
            "  configuration: --prefix=/usr --extra-version=0ubuntu0.22.04.1 --toolchain=hardened --libdir=/usr/lib/x86_64-linux-gnu --incdir=/usr/include/x86_64-linux-gnu --arch=amd64 --enable-gpl --disable-stripping --enable-gnutls --enable-ladspa --enable-libaom --enable-libass --enable-libbluray --enable-libbs2b --enable-libcaca --enable-libcdio --enable-libcodec2 --enable-libdav1d --enable-libflite --enable-libfontconfig --enable-libfreetype --enable-libfribidi --enable-libgme --enable-libgsm --enable-libjack --enable-libmp3lame --enable-libmysofa --enable-libopenjpeg --enable-libopenmpt --enable-libopus --enable-libpulse --enable-librabbitmq --enable-librubberband --enable-libshine --enable-libsnappy --enable-libsoxr --enable-libspeex --enable-libsrt --enable-libssh --enable-libtheora --enable-libtwolame --enable-libvidstab --enable-libvorbis --enable-libvpx --enable-libwebp --enable-libx265 --enable-libxml2 --enable-libxvid --enable-libzimg --enable-libzmq --enable-libzvbi --enable-lv2 --enable-omx --enable-openal --enable-opencl --enable-opengl --enable-sdl2 --enable-pocketsphinx --enable-librsvg --enable-libmfx --enable-libdc1394 --enable-libdrm --enable-libiec61883 --enable-chromaprint --enable-frei0r --enable-libx264 --enable-shared\n",
            "  libavutil      56. 70.100 / 56. 70.100\n",
            "  libavcodec     58.134.100 / 58.134.100\n",
            "  libavformat    58. 76.100 / 58. 76.100\n",
            "  libavdevice    58. 13.100 / 58. 13.100\n",
            "  libavfilter     7.110.100 /  7.110.100\n",
            "  libswscale      5.  9.100 /  5.  9.100\n",
            "  libswresample   3.  9.100 /  3.  9.100\n",
            "  libpostproc    55.  9.100 / 55.  9.100\n",
            "Input #0, yuv4mpegpipe, from '/content/touchdown_pass_1080p.y4m':\n",
            "  Duration: 00:00:19.02, start: 0.000000, bitrate: 994335 kb/s\n",
            "  Stream #0:0: Video: rawvideo (Y42B / 0x42323459), yuv422p(progressive), 1920x1080, SAR 1:1 DAR 16:9, 29.97 fps, 29.97 tbr, 29.97 tbn, 29.97 tbc\n",
            "Stream mapping:\n",
            "  Stream #0:0 -> #0:0 (rawvideo (native) -> png (native))\n",
            "Press [q] to stop, [?] for help\n",
            "Output #0, image2, to './output_frametouchdownpass/frames%d.png':\n",
            "  Metadata:\n",
            "    encoder         : Lavf58.76.100\n",
            "  Stream #0:0: Video: png, rgb24(pc, gbr/unknown/unknown, progressive), 1920x1080 [SAR 1:1 DAR 16:9], q=2-31, 200 kb/s, 29.97 fps, 29.97 tbn\n",
            "    Metadata:\n",
            "      encoder         : Lavc58.134.100 png\n",
            "frame=  570 fps=3.4 q=-0.0 Lsize=N/A time=00:00:19.01 bitrate=N/A speed=0.113x    \n",
            "video:2009570kB audio:0kB subtitle:0kB other streams:0kB global headers:0kB muxing overhead: unknown\n"
          ]
        }
      ]
    },
    {
      "cell_type": "code",
      "source": [
        "!ffmpeg -i /content/red_kayak_1080p.y4m  ./output_frameredkayak/frames%d.png"
      ],
      "metadata": {
        "colab": {
          "base_uri": "https://localhost:8080/"
        },
        "id": "XPWnyGbCpxMX",
        "outputId": "a8e3c38f-7b21-4595-98c8-8fd7952b1bd0"
      },
      "execution_count": null,
      "outputs": [
        {
          "output_type": "stream",
          "name": "stdout",
          "text": [
            "ffmpeg version 4.4.2-0ubuntu0.22.04.1 Copyright (c) 2000-2021 the FFmpeg developers\n",
            "  built with gcc 11 (Ubuntu 11.2.0-19ubuntu1)\n",
            "  configuration: --prefix=/usr --extra-version=0ubuntu0.22.04.1 --toolchain=hardened --libdir=/usr/lib/x86_64-linux-gnu --incdir=/usr/include/x86_64-linux-gnu --arch=amd64 --enable-gpl --disable-stripping --enable-gnutls --enable-ladspa --enable-libaom --enable-libass --enable-libbluray --enable-libbs2b --enable-libcaca --enable-libcdio --enable-libcodec2 --enable-libdav1d --enable-libflite --enable-libfontconfig --enable-libfreetype --enable-libfribidi --enable-libgme --enable-libgsm --enable-libjack --enable-libmp3lame --enable-libmysofa --enable-libopenjpeg --enable-libopenmpt --enable-libopus --enable-libpulse --enable-librabbitmq --enable-librubberband --enable-libshine --enable-libsnappy --enable-libsoxr --enable-libspeex --enable-libsrt --enable-libssh --enable-libtheora --enable-libtwolame --enable-libvidstab --enable-libvorbis --enable-libvpx --enable-libwebp --enable-libx265 --enable-libxml2 --enable-libxvid --enable-libzimg --enable-libzmq --enable-libzvbi --enable-lv2 --enable-omx --enable-openal --enable-opencl --enable-opengl --enable-sdl2 --enable-pocketsphinx --enable-librsvg --enable-libmfx --enable-libdc1394 --enable-libdrm --enable-libiec61883 --enable-chromaprint --enable-frei0r --enable-libx264 --enable-shared\n",
            "  libavutil      56. 70.100 / 56. 70.100\n",
            "  libavcodec     58.134.100 / 58.134.100\n",
            "  libavformat    58. 76.100 / 58. 76.100\n",
            "  libavdevice    58. 13.100 / 58. 13.100\n",
            "  libavfilter     7.110.100 /  7.110.100\n",
            "  libswscale      5.  9.100 /  5.  9.100\n",
            "  libswresample   3.  9.100 /  3.  9.100\n",
            "  libpostproc    55.  9.100 / 55.  9.100\n",
            "Input #0, yuv4mpegpipe, from '/content/red_kayak_1080p.y4m':\n",
            "  Duration: 00:00:19.02, start: 0.000000, bitrate: 994335 kb/s\n",
            "  Stream #0:0: Video: rawvideo (Y42B / 0x42323459), yuv422p(progressive), 1920x1080, SAR 1:1 DAR 16:9, 29.97 fps, 29.97 tbr, 29.97 tbn, 29.97 tbc\n",
            "Stream mapping:\n",
            "  Stream #0:0 -> #0:0 (rawvideo (native) -> png (native))\n",
            "Press [q] to stop, [?] for help\n",
            "Output #0, image2, to './output_frameredkayak/frames%d.png':\n",
            "  Metadata:\n",
            "    encoder         : Lavf58.76.100\n",
            "  Stream #0:0: Video: png, rgb24(pc, gbr/unknown/unknown, progressive), 1920x1080 [SAR 1:1 DAR 16:9], q=2-31, 200 kb/s, 29.97 fps, 29.97 tbn\n",
            "    Metadata:\n",
            "      encoder         : Lavc58.134.100 png\n",
            "frame=  570 fps=4.0 q=-0.0 Lsize=N/A time=00:00:19.01 bitrate=N/A speed=0.133x    \n",
            "video:1864502kB audio:0kB subtitle:0kB other streams:0kB global headers:0kB muxing overhead: unknown\n"
          ]
        }
      ]
    },
    {
      "cell_type": "code",
      "source": [
        "!ffmpeg -i /content/crowd_run_1080p50.y4m  ./output_framecrowdrun/frames%d.png"
      ],
      "metadata": {
        "colab": {
          "base_uri": "https://localhost:8080/"
        },
        "id": "ohvWz9sApxVs",
        "outputId": "8e73d3d5-fddd-4c84-a7f5-5fe39606c00f"
      },
      "execution_count": null,
      "outputs": [
        {
          "output_type": "stream",
          "name": "stdout",
          "text": [
            "ffmpeg version 4.4.2-0ubuntu0.22.04.1 Copyright (c) 2000-2021 the FFmpeg developers\n",
            "  built with gcc 11 (Ubuntu 11.2.0-19ubuntu1)\n",
            "  configuration: --prefix=/usr --extra-version=0ubuntu0.22.04.1 --toolchain=hardened --libdir=/usr/lib/x86_64-linux-gnu --incdir=/usr/include/x86_64-linux-gnu --arch=amd64 --enable-gpl --disable-stripping --enable-gnutls --enable-ladspa --enable-libaom --enable-libass --enable-libbluray --enable-libbs2b --enable-libcaca --enable-libcdio --enable-libcodec2 --enable-libdav1d --enable-libflite --enable-libfontconfig --enable-libfreetype --enable-libfribidi --enable-libgme --enable-libgsm --enable-libjack --enable-libmp3lame --enable-libmysofa --enable-libopenjpeg --enable-libopenmpt --enable-libopus --enable-libpulse --enable-librabbitmq --enable-librubberband --enable-libshine --enable-libsnappy --enable-libsoxr --enable-libspeex --enable-libsrt --enable-libssh --enable-libtheora --enable-libtwolame --enable-libvidstab --enable-libvorbis --enable-libvpx --enable-libwebp --enable-libx265 --enable-libxml2 --enable-libxvid --enable-libzimg --enable-libzmq --enable-libzvbi --enable-lv2 --enable-omx --enable-openal --enable-opencl --enable-opengl --enable-sdl2 --enable-pocketsphinx --enable-librsvg --enable-libmfx --enable-libdc1394 --enable-libdrm --enable-libiec61883 --enable-chromaprint --enable-frei0r --enable-libx264 --enable-shared\n",
            "  libavutil      56. 70.100 / 56. 70.100\n",
            "  libavcodec     58.134.100 / 58.134.100\n",
            "  libavformat    58. 76.100 / 58. 76.100\n",
            "  libavdevice    58. 13.100 / 58. 13.100\n",
            "  libavfilter     7.110.100 /  7.110.100\n",
            "  libswscale      5.  9.100 /  5.  9.100\n",
            "  libswresample   3.  9.100 /  3.  9.100\n",
            "  libpostproc    55.  9.100 / 55.  9.100\n",
            "Input #0, yuv4mpegpipe, from '/content/crowd_run_1080p50.y4m':\n",
            "  Duration: 00:00:10.00, start: 0.000000, bitrate: 1244162 kb/s\n",
            "  Stream #0:0: Video: rawvideo (I420 / 0x30323449), yuv420p(progressive), 1920x1080, SAR 1:1 DAR 16:9, 50 fps, 50 tbr, 50 tbn, 50 tbc\n",
            "Stream mapping:\n",
            "  Stream #0:0 -> #0:0 (rawvideo (native) -> png (native))\n",
            "Press [q] to stop, [?] for help\n",
            "Output #0, image2, to './output_framecrowdrun/frames%d.png':\n",
            "  Metadata:\n",
            "    encoder         : Lavf58.76.100\n",
            "  Stream #0:0: Video: png, rgb24(pc, gbr/unknown/unknown, progressive), 1920x1080 [SAR 1:1 DAR 16:9], q=2-31, 200 kb/s, 50 fps, 50 tbn\n",
            "    Metadata:\n",
            "      encoder         : Lavc58.134.100 png\n",
            "frame=  500 fps=3.4 q=-0.0 Lsize=N/A time=00:00:10.00 bitrate=N/A speed=0.0685x    \n",
            "video:2614433kB audio:0kB subtitle:0kB other streams:0kB global headers:0kB muxing overhead: unknown\n"
          ]
        }
      ]
    },
    {
      "cell_type": "code",
      "source": [
        "!ffmpeg -i /content/WITCHER3.y4m  ./output_framewitcher/frames%d.png"
      ],
      "metadata": {
        "colab": {
          "base_uri": "https://localhost:8080/"
        },
        "id": "5x6ctV_HpxiG",
        "outputId": "fb0a7d00-4319-4fbf-de82-8318c075281b"
      },
      "execution_count": null,
      "outputs": [
        {
          "output_type": "stream",
          "name": "stdout",
          "text": [
            "ffmpeg version 4.4.2-0ubuntu0.22.04.1 Copyright (c) 2000-2021 the FFmpeg developers\n",
            "  built with gcc 11 (Ubuntu 11.2.0-19ubuntu1)\n",
            "  configuration: --prefix=/usr --extra-version=0ubuntu0.22.04.1 --toolchain=hardened --libdir=/usr/lib/x86_64-linux-gnu --incdir=/usr/include/x86_64-linux-gnu --arch=amd64 --enable-gpl --disable-stripping --enable-gnutls --enable-ladspa --enable-libaom --enable-libass --enable-libbluray --enable-libbs2b --enable-libcaca --enable-libcdio --enable-libcodec2 --enable-libdav1d --enable-libflite --enable-libfontconfig --enable-libfreetype --enable-libfribidi --enable-libgme --enable-libgsm --enable-libjack --enable-libmp3lame --enable-libmysofa --enable-libopenjpeg --enable-libopenmpt --enable-libopus --enable-libpulse --enable-librabbitmq --enable-librubberband --enable-libshine --enable-libsnappy --enable-libsoxr --enable-libspeex --enable-libsrt --enable-libssh --enable-libtheora --enable-libtwolame --enable-libvidstab --enable-libvorbis --enable-libvpx --enable-libwebp --enable-libx265 --enable-libxml2 --enable-libxvid --enable-libzimg --enable-libzmq --enable-libzvbi --enable-lv2 --enable-omx --enable-openal --enable-opencl --enable-opengl --enable-sdl2 --enable-pocketsphinx --enable-librsvg --enable-libmfx --enable-libdc1394 --enable-libdrm --enable-libiec61883 --enable-chromaprint --enable-frei0r --enable-libx264 --enable-shared\n",
            "  libavutil      56. 70.100 / 56. 70.100\n",
            "  libavcodec     58.134.100 / 58.134.100\n",
            "  libavformat    58. 76.100 / 58. 76.100\n",
            "  libavdevice    58. 13.100 / 58. 13.100\n",
            "  libavfilter     7.110.100 /  7.110.100\n",
            "  libswscale      5.  9.100 /  5.  9.100\n",
            "  libswresample   3.  9.100 /  3.  9.100\n",
            "  libpostproc    55.  9.100 / 55.  9.100\n",
            "Input #0, yuv4mpegpipe, from '/content/WITCHER3.y4m':\n",
            "  Duration: 00:01:00.03, start: 0.000000, bitrate: 1492994 kb/s\n",
            "  Stream #0:0: Video: rawvideo (I420 / 0x30323449), yuv420p(progressive), 1920x1080, 60 fps, 60 tbr, 60 tbn, 60 tbc\n",
            "Stream mapping:\n",
            "  Stream #0:0 -> #0:0 (rawvideo (native) -> png (native))\n",
            "Press [q] to stop, [?] for help\n",
            "Output #0, image2, to './output_framewitcher/frames%d.png':\n",
            "  Metadata:\n",
            "    encoder         : Lavf58.76.100\n",
            "  Stream #0:0: Video: png, rgb24(pc, gbr/unknown/unknown, progressive), 1920x1080, q=2-31, 200 kb/s, 60 fps, 60 tbn\n",
            "    Metadata:\n",
            "      encoder         : Lavc58.134.100 png\n",
            "frame= 3602 fps=3.2 q=-0.0 Lsize=N/A time=00:01:00.03 bitrate=N/A speed=0.0537x    \n",
            "video:10069335kB audio:0kB subtitle:0kB other streams:0kB global headers:0kB muxing overhead: unknown\n"
          ]
        }
      ]
    },
    {
      "cell_type": "markdown",
      "source": [
        "Sunflower"
      ],
      "metadata": {
        "id": "OPWoPNI2BqCQ"
      }
    },
    {
      "cell_type": "code",
      "source": [
        "# Import libraries\n",
        "import cv2\n",
        "import torch\n",
        "import numpy as np\n",
        "import glob\n",
        "import os\n",
        "from tqdm import tqdm  # Import tqdm for progress bar\n",
        "\n",
        "# Set paths\n",
        "video_path = '/content/sunflower_1080p25.y4m'\n",
        "video_frames_path = '/content/output_framesunflower'\n",
        "os.makedirs(video_frames_path, exist_ok=True)\n",
        "\n",
        "# Load YOLOv5 model\n",
        "model = torch.hub.load('ultralytics/yolov5', 'yolov5s', pretrained=True)\n",
        "\n",
        "# Function to perform object detection on a frame\n",
        "def detect_objects(frame):\n",
        "    results = model(frame)\n",
        "    return results.xyxy[0].shape[0]  # Return the number of detected objects\n",
        "\n",
        "# Function to process a video and get the average object count\n",
        "def process_video(cap):\n",
        "    total_object_count = 0\n",
        "    frame_count = 0\n",
        "\n",
        "    # Use tqdm for a progress bar\n",
        "    for _ in tqdm(range(int(cap.get(cv2.CAP_PROP_FRAME_COUNT)))):\n",
        "        ret, frame = cap.read()\n",
        "\n",
        "        if not ret or frame is None:\n",
        "            break\n",
        "\n",
        "        # Increment the frame counter\n",
        "        frame_count += 1\n",
        "\n",
        "        # Convert frame to RGB (required by YOLO)\n",
        "        frame_rgb = cv2.cvtColor(frame, cv2.COLOR_BGR2RGB)\n",
        "\n",
        "        # Perform object detection on the frame\n",
        "        object_count = detect_objects(frame_rgb)\n",
        "\n",
        "        # Accumulate the count\n",
        "        total_object_count += object_count\n",
        "\n",
        "    # Avoid division by zero\n",
        "    average_object_count = total_object_count / frame_count if frame_count > 0 else 0\n",
        "\n",
        "    return average_object_count\n",
        "\n",
        "# Process the single video\n",
        "cap = cv2.VideoCapture(video_path)\n",
        "average_object_count = process_video(cap)\n",
        "cap.release()\n",
        "\n",
        "# Print the result\n",
        "print(f'The average object count in the video is {average_object_count:.2f}')\n"
      ],
      "metadata": {
        "colab": {
          "base_uri": "https://localhost:8080/"
        },
        "id": "6PyUwAUZdEVM",
        "outputId": "02cedd87-da11-45bc-f7bb-ae938f844bac"
      },
      "execution_count": null,
      "outputs": [
        {
          "output_type": "stream",
          "name": "stderr",
          "text": [
            "/usr/local/lib/python3.10/dist-packages/torch/hub.py:294: UserWarning: You are about to download and run code from an untrusted repository. In a future release, this won't be allowed. To add the repository to your trusted list, change the command to {calling_fn}(..., trust_repo=False) and a command prompt will appear asking for an explicit confirmation of trust, or load(..., trust_repo=True), which will assume that the prompt is to be answered with 'yes'. You can also use load(..., trust_repo='check') which will only prompt for confirmation if the repo is not already trusted. This will eventually be the default behaviour\n",
            "  warnings.warn(\n",
            "Downloading: \"https://github.com/ultralytics/yolov5/zipball/master\" to /root/.cache/torch/hub/master.zip\n"
          ]
        },
        {
          "output_type": "stream",
          "name": "stdout",
          "text": [
            "\u001b[31m\u001b[1mrequirements:\u001b[0m Ultralytics requirements ['gitpython>=3.1.30', 'Pillow>=10.0.1'] not found, attempting AutoUpdate...\n",
            "Collecting gitpython>=3.1.30\n",
            "  Downloading GitPython-3.1.40-py3-none-any.whl (190 kB)\n",
            "     ━━━━━━━━━━━━━━━━━━━━━━━━━━━━━━━━━━━━━━━━ 190.6/190.6 kB 3.8 MB/s eta 0:00:00\n",
            "Collecting Pillow>=10.0.1\n",
            "  Downloading Pillow-10.1.0-cp310-cp310-manylinux_2_28_x86_64.whl (3.6 MB)\n",
            "     ━━━━━━━━━━━━━━━━━━━━━━━━━━━━━━━━━━━━━━━━ 3.6/3.6 MB 64.4 MB/s eta 0:00:00\n",
            "Collecting gitdb<5,>=4.0.1 (from gitpython>=3.1.30)\n",
            "  Downloading gitdb-4.0.11-py3-none-any.whl (62 kB)\n",
            "     ━━━━━━━━━━━━━━━━━━━━━━━━━━━━━━━━━━━━━━━━ 62.7/62.7 kB 215.4 MB/s eta 0:00:00\n",
            "Collecting smmap<6,>=3.0.1 (from gitdb<5,>=4.0.1->gitpython>=3.1.30)\n",
            "  Downloading smmap-5.0.1-py3-none-any.whl (24 kB)\n",
            "Installing collected packages: smmap, Pillow, gitdb, gitpython\n",
            "  Attempting uninstall: Pillow\n",
            "    Found existing installation: Pillow 9.4.0\n",
            "    Uninstalling Pillow-9.4.0:\n",
            "      Successfully uninstalled Pillow-9.4.0\n",
            "Successfully installed Pillow-10.1.0 gitdb-4.0.11 gitpython-3.1.40 smmap-5.0.1\n",
            "\n",
            "\u001b[31m\u001b[1mrequirements:\u001b[0m AutoUpdate success ✅ 10.1s, installed 2 packages: ['gitpython>=3.1.30', 'Pillow>=10.0.1']\n",
            "\u001b[31m\u001b[1mrequirements:\u001b[0m ⚠️ \u001b[1mRestart runtime or rerun command for updates to take effect\u001b[0m\n",
            "\n"
          ]
        },
        {
          "output_type": "stream",
          "name": "stderr",
          "text": [
            "YOLOv5 🚀 2023-11-20 Python-3.10.12 torch-2.1.0+cu118 CPU\n",
            "\n",
            "Downloading https://github.com/ultralytics/yolov5/releases/download/v7.0/yolov5s.pt to yolov5s.pt...\n",
            "100%|██████████| 14.1M/14.1M [00:00<00:00, 103MB/s] \n",
            "\n",
            "Fusing layers... \n",
            "YOLOv5s summary: 213 layers, 7225885 parameters, 0 gradients, 16.4 GFLOPs\n",
            "Adding AutoShape... \n",
            "100%|██████████| 500/500 [02:46<00:00,  3.01it/s]"
          ]
        },
        {
          "output_type": "stream",
          "name": "stdout",
          "text": [
            "The average object count in the video is 0.53\n"
          ]
        },
        {
          "output_type": "stream",
          "name": "stderr",
          "text": [
            "\n"
          ]
        }
      ]
    },
    {
      "cell_type": "markdown",
      "source": [
        "touchdownpass"
      ],
      "metadata": {
        "id": "ccbtY9E0B96V"
      }
    },
    {
      "cell_type": "code",
      "source": [
        "\n",
        "\n",
        "# Set paths\n",
        "video_path = '/content/touchdown_pass_1080p.y4m'\n",
        "video_frames_path = '/content/output_frametouchdownpass'\n",
        "os.makedirs(video_frames_path, exist_ok=True)\n",
        "\n",
        "# Load YOLOv5 model\n",
        "model = torch.hub.load('ultralytics/yolov5', 'yolov5s', pretrained=True)\n",
        "\n",
        "# Function to perform object detection on a frame\n",
        "def detect_objects(frame):\n",
        "    results = model(frame)\n",
        "    return results.xyxy[0].shape[0]  # Return the number of detected objects\n",
        "\n",
        "# Function to process a video and get the average object count\n",
        "def process_video(cap):\n",
        "    total_object_count = 0\n",
        "    frame_count = 0\n",
        "\n",
        "    # Use tqdm for a progress bar\n",
        "    for _ in tqdm(range(int(cap.get(cv2.CAP_PROP_FRAME_COUNT)))):\n",
        "        ret, frame = cap.read()\n",
        "\n",
        "        if not ret or frame is None:\n",
        "            break\n",
        "\n",
        "        # Increment the frame counter\n",
        "        frame_count += 1\n",
        "\n",
        "        # Convert frame to RGB (required by YOLO)\n",
        "        frame_rgb = cv2.cvtColor(frame, cv2.COLOR_BGR2RGB)\n",
        "\n",
        "        # Perform object detection on the frame\n",
        "        object_count = detect_objects(frame_rgb)\n",
        "\n",
        "        # Accumulate the count\n",
        "        total_object_count += object_count\n",
        "\n",
        "    # Avoid division by zero\n",
        "    average_object_count = total_object_count / frame_count if frame_count > 0 else 0\n",
        "\n",
        "    return average_object_count\n",
        "\n",
        "# Process the single video\n",
        "cap = cv2.VideoCapture(video_path)\n",
        "average_object_count = process_video(cap)\n",
        "cap.release()\n",
        "\n",
        "# Print the result\n",
        "print(f'The average object count in the video is {average_object_count:.2f}')\n"
      ],
      "metadata": {
        "colab": {
          "base_uri": "https://localhost:8080/"
        },
        "id": "OmghCPWrpx1f",
        "outputId": "2865a6da-155e-46a3-b0a6-c96cb15a4627"
      },
      "execution_count": null,
      "outputs": [
        {
          "output_type": "stream",
          "name": "stderr",
          "text": [
            "Using cache found in /root/.cache/torch/hub/ultralytics_yolov5_master\n",
            "YOLOv5 🚀 2023-11-20 Python-3.10.12 torch-2.1.0+cu118 CPU\n",
            "\n",
            "Fusing layers... \n",
            "YOLOv5s summary: 213 layers, 7225885 parameters, 0 gradients, 16.4 GFLOPs\n",
            "Adding AutoShape... \n",
            "100%|██████████| 570/570 [03:23<00:00,  2.80it/s]"
          ]
        },
        {
          "output_type": "stream",
          "name": "stdout",
          "text": [
            "The average object count in the video is 10.53\n"
          ]
        },
        {
          "output_type": "stream",
          "name": "stderr",
          "text": [
            "\n"
          ]
        }
      ]
    },
    {
      "cell_type": "markdown",
      "source": [
        "redkayak"
      ],
      "metadata": {
        "id": "SnUfH20QCIS4"
      }
    },
    {
      "cell_type": "code",
      "source": [
        "\n",
        "\n",
        "# Set paths\n",
        "video_path = '/content/red_kayak_1080p.y4m'\n",
        "video_frames_path = '/content/output_frameredkayak'\n",
        "os.makedirs(video_frames_path, exist_ok=True)\n",
        "\n",
        "# Load YOLOv5 model\n",
        "model = torch.hub.load('ultralytics/yolov5', 'yolov5s', pretrained=True)\n",
        "\n",
        "# Function to perform object detection on a frame\n",
        "def detect_objects(frame):\n",
        "    results = model(frame)\n",
        "    return results.xyxy[0].shape[0]  # Return the number of detected objects\n",
        "\n",
        "# Function to process a video and get the average object count\n",
        "def process_video(cap):\n",
        "    total_object_count = 0\n",
        "    frame_count = 0\n",
        "\n",
        "    # Use tqdm for a progress bar\n",
        "    for _ in tqdm(range(int(cap.get(cv2.CAP_PROP_FRAME_COUNT)))):\n",
        "        ret, frame = cap.read()\n",
        "\n",
        "        if not ret or frame is None:\n",
        "            break\n",
        "\n",
        "        # Increment the frame counter\n",
        "        frame_count += 1\n",
        "\n",
        "        # Convert frame to RGB (required by YOLO)\n",
        "        frame_rgb = cv2.cvtColor(frame, cv2.COLOR_BGR2RGB)\n",
        "\n",
        "        # Perform object detection on the frame\n",
        "        object_count = detect_objects(frame_rgb)\n",
        "\n",
        "        # Accumulate the count\n",
        "        total_object_count += object_count\n",
        "\n",
        "    # Avoid division by zero\n",
        "    average_object_count = total_object_count / frame_count if frame_count > 0 else 0\n",
        "\n",
        "    return average_object_count\n",
        "\n",
        "# Process the single video\n",
        "cap = cv2.VideoCapture(video_path)\n",
        "average_object_count = process_video(cap)\n",
        "cap.release()\n",
        "\n",
        "# Print the result\n",
        "print(f'The average object count in the video is {average_object_count:.2f}')\n"
      ],
      "metadata": {
        "colab": {
          "base_uri": "https://localhost:8080/"
        },
        "id": "jj6j2WPWqaBt",
        "outputId": "2a0c4bf0-54ef-4b35-8163-7b9b382a91cf"
      },
      "execution_count": null,
      "outputs": [
        {
          "output_type": "stream",
          "name": "stderr",
          "text": [
            "Using cache found in /root/.cache/torch/hub/ultralytics_yolov5_master\n",
            "YOLOv5 🚀 2023-11-20 Python-3.10.12 torch-2.1.0+cu118 CPU\n",
            "\n",
            "Fusing layers... \n",
            "YOLOv5s summary: 213 layers, 7225885 parameters, 0 gradients, 16.4 GFLOPs\n",
            "Adding AutoShape... \n",
            "100%|██████████| 570/570 [03:28<00:00,  2.73it/s]"
          ]
        },
        {
          "output_type": "stream",
          "name": "stdout",
          "text": [
            "The average object count in the video is 1.04\n"
          ]
        },
        {
          "output_type": "stream",
          "name": "stderr",
          "text": [
            "\n"
          ]
        }
      ]
    },
    {
      "cell_type": "markdown",
      "source": [
        "crowdrun"
      ],
      "metadata": {
        "id": "AQPdMCSVCXJP"
      }
    },
    {
      "cell_type": "code",
      "source": [
        "\n",
        "\n",
        "# Set paths\n",
        "video_path = '/content/crowd_run_1080p50.y4m'\n",
        "video_frames_path = '/content/output_framecrowdrun'\n",
        "os.makedirs(video_frames_path, exist_ok=True)\n",
        "\n",
        "# Load YOLOv5 model\n",
        "model = torch.hub.load('ultralytics/yolov5', 'yolov5s', pretrained=True)\n",
        "\n",
        "# Function to perform object detection on a frame\n",
        "def detect_objects(frame):\n",
        "    results = model(frame)\n",
        "    return results.xyxy[0].shape[0]  # Return the number of detected objects\n",
        "\n",
        "# Function to process a video and get the average object count\n",
        "def process_video(cap):\n",
        "    total_object_count = 0\n",
        "    frame_count = 0\n",
        "\n",
        "    # Use tqdm for a progress bar\n",
        "    for _ in tqdm(range(int(cap.get(cv2.CAP_PROP_FRAME_COUNT)))):\n",
        "        ret, frame = cap.read()\n",
        "\n",
        "        if not ret or frame is None:\n",
        "            break\n",
        "\n",
        "        # Increment the frame counter\n",
        "        frame_count += 1\n",
        "\n",
        "        # Convert frame to RGB (required by YOLO)\n",
        "        frame_rgb = cv2.cvtColor(frame, cv2.COLOR_BGR2RGB)\n",
        "\n",
        "        # Perform object detection on the frame\n",
        "        object_count = detect_objects(frame_rgb)\n",
        "\n",
        "        # Accumulate the count\n",
        "        total_object_count += object_count\n",
        "\n",
        "    # Avoid division by zero\n",
        "    average_object_count = total_object_count / frame_count if frame_count > 0 else 0\n",
        "\n",
        "    return average_object_count\n",
        "\n",
        "# Process the single video\n",
        "cap = cv2.VideoCapture(video_path)\n",
        "average_object_count = process_video(cap)\n",
        "cap.release()\n",
        "\n",
        "# Print the result\n",
        "print(f'The average object count in the video is {average_object_count:.2f}')\n"
      ],
      "metadata": {
        "colab": {
          "base_uri": "https://localhost:8080/"
        },
        "id": "e0sMxUxuG-96",
        "outputId": "ec8b83ef-0d94-4cd7-f1cb-dc9279c93b27"
      },
      "execution_count": null,
      "outputs": [
        {
          "output_type": "stream",
          "name": "stderr",
          "text": [
            "Using cache found in /root/.cache/torch/hub/ultralytics_yolov5_master\n",
            "YOLOv5 🚀 2023-11-20 Python-3.10.12 torch-2.1.0+cu118 CPU\n",
            "\n",
            "Fusing layers... \n",
            "YOLOv5s summary: 213 layers, 7225885 parameters, 0 gradients, 16.4 GFLOPs\n",
            "Adding AutoShape... \n",
            "100%|██████████| 500/500 [02:47<00:00,  2.99it/s]"
          ]
        },
        {
          "output_type": "stream",
          "name": "stdout",
          "text": [
            "The average object count in the video is 23.05\n"
          ]
        },
        {
          "output_type": "stream",
          "name": "stderr",
          "text": [
            "\n"
          ]
        }
      ]
    },
    {
      "cell_type": "markdown",
      "source": [
        "Witcher\n"
      ],
      "metadata": {
        "id": "MLl1-Jqzws5R"
      }
    },
    {
      "cell_type": "code",
      "source": [
        "\n",
        "\n",
        "# Set paths\n",
        "video_path = '/content/WITCHER3.y4m'\n",
        "video_frames_path = '/content/output_framewitcher'\n",
        "os.makedirs(video_frames_path, exist_ok=True)\n",
        "\n",
        "# Load YOLOv5 model\n",
        "model = torch.hub.load('ultralytics/yolov5', 'yolov5s', pretrained=True)\n",
        "\n",
        "# Function to perform object detection on a frame\n",
        "def detect_objects(frame):\n",
        "    results = model(frame)\n",
        "    return results.xyxy[0].shape[0]  # Return the number of detected objects\n",
        "\n",
        "# Function to process a video and get the average object count\n",
        "def process_video(cap):\n",
        "    total_object_count = 0\n",
        "    frame_count = 0\n",
        "\n",
        "    # Use tqdm for a progress bar\n",
        "    for _ in tqdm(range(int(cap.get(cv2.CAP_PROP_FRAME_COUNT)))):\n",
        "        ret, frame = cap.read()\n",
        "\n",
        "        if not ret or frame is None:\n",
        "            break\n",
        "\n",
        "        # Increment the frame counter\n",
        "        frame_count += 1\n",
        "\n",
        "        # Convert frame to RGB (required by YOLO)\n",
        "        frame_rgb = cv2.cvtColor(frame, cv2.COLOR_BGR2RGB)\n",
        "\n",
        "        # Perform object detection on the frame\n",
        "        object_count = detect_objects(frame_rgb)\n",
        "\n",
        "        # Accumulate the count\n",
        "        total_object_count += object_count\n",
        "\n",
        "    # Avoid division by zero\n",
        "    average_object_count = total_object_count / frame_count if frame_count > 0 else 0\n",
        "\n",
        "    return average_object_count\n",
        "\n",
        "# Process the single video\n",
        "cap = cv2.VideoCapture(video_path)\n",
        "average_object_count = process_video(cap)\n",
        "cap.release()\n",
        "\n",
        "# Print the result\n",
        "print(f'The average object count in the video is {average_object_count:.2f}')\n"
      ],
      "metadata": {
        "colab": {
          "base_uri": "https://localhost:8080/"
        },
        "id": "UEnKWrhHmq09",
        "outputId": "ddd82cf5-e40b-4be0-a377-e927de9658d9"
      },
      "execution_count": null,
      "outputs": [
        {
          "output_type": "stream",
          "name": "stderr",
          "text": [
            "Using cache found in /root/.cache/torch/hub/ultralytics_yolov5_master\n",
            "YOLOv5 🚀 2023-11-20 Python-3.10.12 torch-2.1.0+cu118 CPU\n",
            "\n",
            "Fusing layers... \n",
            "YOLOv5s summary: 213 layers, 7225885 parameters, 0 gradients, 16.4 GFLOPs\n",
            "Adding AutoShape... \n",
            "100%|██████████| 3602/3602 [20:30<00:00,  2.93it/s]"
          ]
        },
        {
          "output_type": "stream",
          "name": "stdout",
          "text": [
            "The average object count in the video is 2.19\n"
          ]
        },
        {
          "output_type": "stream",
          "name": "stderr",
          "text": [
            "\n"
          ]
        }
      ]
    },
    {
      "cell_type": "code",
      "source": [
        "!jupyter nbconvert --to html \"/content/DevVC3sourcecodeupdated.ipynb\""
      ],
      "metadata": {
        "colab": {
          "base_uri": "https://localhost:8080/"
        },
        "id": "ZKpfXBTpmq6N",
        "outputId": "3b8348e1-5ed3-4277-c752-2b7cced74dae"
      },
      "execution_count": null,
      "outputs": [
        {
          "output_type": "stream",
          "name": "stdout",
          "text": [
            "[NbConvertApp] Converting notebook /content/DevVC3sourcecodeupdated.ipynb to html\n",
            "[NbConvertApp] Writing 744397 bytes to /content/DevVC3sourcecodeupdated.html\n"
          ]
        }
      ]
    }
  ]
}